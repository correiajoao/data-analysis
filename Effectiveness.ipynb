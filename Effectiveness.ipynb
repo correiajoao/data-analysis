{
 "cells": [
  {
   "cell_type": "markdown",
   "metadata": {},
   "source": [
    "## Effectivenes script \n",
    "\n",
    "In this notebook, we will explore each step in the script [Effectiveness.R](https://github.com/correiajoao/data-analysis/blob/master/Effectiveness.R). The script explores a dataset containing software metrics and developer's perception about the presence of code smells in that code or not.\n",
    "\n",
    "### Importing pacakges\n",
    "\n",
    "The first lines in code imports the required for execution.\n"
   ]
  },
  {
   "cell_type": "code",
   "execution_count": 1,
   "metadata": {
    "scrolled": false
   },
   "outputs": [
    {
     "name": "stderr",
     "output_type": "stream",
     "text": [
      "\n",
      "Attaching package: ‘caret’\n",
      "\n",
      "The following objects are masked _by_ ‘.GlobalEnv’:\n",
      "\n",
      "    precision, recall\n",
      "\n",
      "randomForest 4.6-14\n",
      "Type rfNews() to see new features/changes/bug fixes.\n",
      "\n",
      "Attaching package: ‘randomForest’\n",
      "\n",
      "The following object is masked from ‘package:ggplot2’:\n",
      "\n",
      "    margin\n",
      "\n"
     ]
    }
   ],
   "source": [
    "library(RWeka)\n",
    "library(e1071)\n",
    "library(gmodels)\n",
    "library(caret)\n",
    "library(irr)\n",
    "library(randomForest)"
   ]
  },
  {
   "cell_type": "markdown",
   "metadata": {},
   "source": [
    "## Defining functions \n",
    "### Functions to calculate model's metrics\n",
    "\n",
    "Using the results provided by the confusing matrix: true positives, true negatives, false positives, and false negatives; the following functions calculate individual metrics from the model's performance. The metrics are precision, recall, and f-Measure.\n",
    "\n"
   ]
  },
  {
   "cell_type": "code",
   "execution_count": 2,
   "metadata": {},
   "outputs": [],
   "source": [
    "\n",
    "# Precision\n",
    "precision <- function(tp, fp){\n",
    "  precision <- tp/(tp+fp)\n",
    "  return(precision)\n",
    "}\n",
    "\n",
    "# Recall\n",
    "recall <- function(tp, fn){\n",
    "  recall <- tp/(tp+fn)\n",
    "  return(recall)\n",
    "}\n",
    "\n",
    "# F-measure\n",
    "f_measure <- function(tp, fp, fn){\n",
    "  f_measure <- (2*precision(tp,fp)*recall(tp,fn))/(recall(tp,fn) + precision(tp, fp))\n",
    "  return(f_measure)\n",
    "}\n"
   ]
  },
  {
   "cell_type": "markdown",
   "metadata": {},
   "source": [
    "### Functions to compute confusing matrix \n",
    "\n",
    "Given the prediction performed by the model and the test set, the function below computes the confusing matrix and returns in array format the model's precision, recall, and f-measure.\n"
   ]
  },
  {
   "cell_type": "code",
   "execution_count": 3,
   "metadata": {},
   "outputs": [],
   "source": [
    "\n",
    "measures <- function(test, pred){\n",
    "  \n",
    "  true_positive <- 0\n",
    "  true_negative <- 0\n",
    "  false_positive <- 0\n",
    "  false_negative <- 0\n",
    "  \n",
    "  for(i in 1:length(pred)){\n",
    "    if(test[i] == TRUE && pred[i] == TRUE){\n",
    "      true_positive <- true_positive + 1\n",
    "    }else if(test[i] == FALSE && pred[i] == FALSE){\n",
    "      true_negative <- true_negative + 1\n",
    "    }else if(test[i] == FALSE && pred[i] == TRUE){\n",
    "      false_negative <- false_negative + 1\n",
    "    }else if(test[i] == TRUE && pred[i] == FALSE){\n",
    "      false_positive <- false_positive + 1\n",
    "    }\n",
    "  }\n",
    "  \n",
    "  measures <- c(precision(true_positive,false_positive), \n",
    "                recall(true_positive,false_negative), \n",
    "                f_measure(true_positive,false_positive,false_negative))\n",
    "  \n",
    "  return(measures)\n",
    "}\n"
   ]
  },
  {
   "cell_type": "markdown",
   "metadata": {},
   "source": [
    "### Functions to perform the machine learning algorithms\n",
    "\n",
    "The following functions, receive as arguments the dataset and the number of folders. Each function splits the dataset in train and test. The function builds a model using the training subset, then predicts the instances from the test subset. After that, pass the prediction and the test subset for the function that computes the confusion matrix and the model's metrics, returning those metrics.\n",
    "\n",
    "The algorithms are:\n",
    "  - J48\n",
    "  - Naive Bayes\n",
    "  - C50\n",
    "  - SVM\n",
    "  - One R\n",
    "  - JRip\n",
    "  - Random Forest\n",
    "  - SMO\n"
   ]
  },
  {
   "cell_type": "code",
   "execution_count": 4,
   "metadata": {},
   "outputs": [],
   "source": [
    "executeJ48 <- function(dataset, folds){\n",
    "  results <- lapply(folds, function(x) {\n",
    "    train <- dataset[-x, ]\n",
    "    test <- dataset[x, ]\n",
    "    model <- J48(train$Smell~ ., data = train)\n",
    "    pred <- predict(model, test)\n",
    "    \n",
    "    results <- measures(test$Smell, pred)\n",
    "    \n",
    "    return(results)\n",
    "  })\n",
    "}\n",
    "\n",
    "executeNaiveBayes <- function(dataset, folds){\n",
    "  results <- lapply(folds, function(x) {\n",
    "    train <- dataset[-x, ]\n",
    "    test <- dataset[x, ]\n",
    "    model <- naiveBayes(train, train$Smell, laplace = 1)\n",
    "    pred <- predict(model, test)\n",
    "    \n",
    "    results <- measures(test$Smell, pred)\n",
    "    \n",
    "    return(results)\n",
    "  })\n",
    "  \n",
    "}\n",
    "\n",
    "executeC50 <- function(dataset, folds){\n",
    "  results <- lapply(folds, function(x) {\n",
    "    train <- dataset[-x, ]\n",
    "    test <- dataset[x, ]\n",
    "    model <- C5.0(train, train$Smell)\n",
    "    pred <- predict(model, test)\n",
    "    \n",
    "    results <- measures(test$Smell, pred)\n",
    "    \n",
    "    return(results)\n",
    "  })\n",
    "  \n",
    "}\n",
    "\n",
    "executeSVM <- function(dataset, folds){\n",
    "  results <- lapply(folds, function(x) {\n",
    "    train <- dataset[-x, ]\n",
    "    test <- dataset[x, ]\n",
    "    model <- svm(train$Smell~ ., data = train)\n",
    "    pred <- predict(model, test)\n",
    "    \n",
    "    results <- measures(test$Smell, pred)\n",
    "    \n",
    "    return(results)\n",
    "  })\n",
    "  \n",
    "}\n",
    "\n",
    "executeOneR <- function(dataset, folds){\n",
    "  results <- lapply(folds, function(x) {\n",
    "    train <- dataset[-x, ]\n",
    "    test <- dataset[x, ]\n",
    "    model <- OneR(train$Smell~ ., data = train)\n",
    "    pred <- predict(model, test)\n",
    "    \n",
    "    results <- measures(test$Smell, pred)\n",
    "    \n",
    "    return(results)\n",
    "  })\n",
    "  \n",
    "}\n",
    "\n",
    "executeJRip <- function(dataset, folds){\n",
    "  results <- lapply(folds, function(x) {\n",
    "    train <- dataset[-x, ]\n",
    "    test <- dataset[x, ]\n",
    "    model <- JRip(train$Smell~ ., data = train)\n",
    "    pred <- predict(model, test)\n",
    "    \n",
    "    results <- measures(test$Smell, pred)\n",
    "    \n",
    "    return(results)\n",
    "  })\n",
    "  \n",
    "}\n",
    "\n",
    "executeRandomForest <- function(dataset, folds){\n",
    "  results <- lapply(folds, function(x) {\n",
    "    train <- dataset[-x, ]\n",
    "    test <- dataset[x, ]\n",
    "    model <- randomForest(train$Smell~ ., data = train)\n",
    "    pred <- predict(model, test)\n",
    "    \n",
    "    results <- measures(test$Smell, pred)\n",
    "    \n",
    "    return(results)\n",
    "  })\n",
    "}\n",
    "\n",
    "executeSMO <- function(dataset, folds){\n",
    "  results <- lapply(folds, function(x) {\n",
    "    train <- dataset[-x, ]\n",
    "    test <- dataset[x, ]\n",
    "    model <- SMO(train$Smell~ ., data = train)\n",
    "    pred <- predict(model, test)\n",
    "    \n",
    "    results <- measures(test$Smell, pred)\n",
    "    \n",
    "    return(results)\n",
    "  })\n",
    "}"
   ]
  },
  {
   "cell_type": "markdown",
   "metadata": {},
   "source": [
    "## Execution\n",
    "\n",
    "### Creating data frames\n",
    "\n",
    "In the execution, the first step is to define arrays and data frames containing algorithms, developers, and smells."
   ]
  },
  {
   "cell_type": "code",
   "execution_count": 5,
   "metadata": {},
   "outputs": [],
   "source": [
    "techniques <- c(\"J48\", \"NaiveBayes\", \"SVM\", \"oneR\", \"JRip\", \"RandomForest\", \"SMO\")\n",
    "smells <- c(\"FE\", \"DCL\", \"GC\", \"II\",\"LM\", \"MC\", \"MM\", \"PO\",\"RB\",\"SG\")\n",
    "\n",
    "developers <- data.frame(c(1, 5, 6, 9, 55, 58, 60, 84, 97, 99, 101, 103),\n",
    "                         c(2, 17, 18, 19, 21, 22, 27, 30, 77, 86, 93, 104),\n",
    "                         c(1, 9, 13, 15, 16, 61, 62, 66, 84, 94, 102, 103),\n",
    "                         c(2, 7, 21, 22, 24, 25, 28, 86, 104, 110, 111, 124),\n",
    "                         c(41, 42, 43, 45, 46, 47, 49, 51, 64, 74, 81, 95),\n",
    "                         c(5, 6, 10, 52, 53, 55, 58, 60, 91, 97, 99, 101),\n",
    "                         c(8, 11, 39, 40, 41, 42, 43, 45, 46, 47, 74, 81),\n",
    "                         c(46, 47, 49, 51, 52, 53, 64, 74, 91, 95, 105, 109),\n",
    "                         c(13, 15, 16, 17, 18, 19, 30, 61, 94, 102, 111, 112),\n",
    "                         c(5, 49, 51, 52, 53, 55, 56, 64, 91, 95, 99, 105))\n",
    "\n",
    "colnames(developers) <- smells\n",
    "list_of_results <- list()"
   ]
  },
  {
   "cell_type": "markdown",
   "metadata": {},
   "source": [
    "### Training models \n",
    "\n",
    "The code below iterates over each developer and smells, performing the train, and calculating metrics for each generated model. Each developer (total 10) has an opinion about one code smell (total 12). For each pair (developer, smell), all the seven machine learning algorithm is performed, and the metrics were stored. \n"
   ]
  },
  {
   "cell_type": "code",
   "execution_count": 6,
   "metadata": {},
   "outputs": [
    {
     "name": "stdout",
     "output_type": "stream",
     "text": [
      "[1] \"FE\"\n"
     ]
    },
    {
     "name": "stderr",
     "output_type": "stream",
     "text": [
      "Warning message in svm.default(x, y, scale = scale, ..., na.action = na.action):\n",
      "“Variable(s) ‘Essential’ constant. Cannot scale data.”"
     ]
    },
    {
     "name": "stdout",
     "output_type": "stream",
     "text": [
      "[1] \"Developer 1\"\n",
      "             Precision    Recall F-measure\n",
      "J48                0.5 0.5000000 0.6000000\n",
      "NaiveBayes         0.8 0.7916667 0.8666667\n",
      "SVM                0.8 0.5416667 0.6916667\n",
      "oneR               0.8 0.5416667 0.6916667\n",
      "JRip               0.7 0.4583333 0.5833333\n",
      "RandomForest       0.4 0.5416667 0.6555556\n",
      "SMO                0.9 0.7000000 0.7266667\n"
     ]
    },
    {
     "name": "stderr",
     "output_type": "stream",
     "text": [
      "Warning message in svm.default(x, y, scale = scale, ..., na.action = na.action):\n",
      "“Variable(s) ‘Essential’ constant. Cannot scale data.”"
     ]
    },
    {
     "name": "stdout",
     "output_type": "stream",
     "text": [
      "[1] \"Developer 5\"\n",
      "             Precision    Recall F-measure\n",
      "J48                0.4 0.3333333 0.6666667\n",
      "NaiveBayes         0.4 0.2500000 0.6666667\n",
      "SVM                0.2 0.2500000 0.6666667\n",
      "oneR               0.2 0.1250000 0.6666667\n",
      "JRip               0.2 0.5000000 1.0000000\n",
      "RandomForest       0.4 0.6250000 0.6666667\n",
      "SMO                0.5 0.4583333 0.6888889\n"
     ]
    },
    {
     "name": "stderr",
     "output_type": "stream",
     "text": [
      "Warning message in svm.default(x, y, scale = scale, ..., na.action = na.action):\n",
      "“Variable(s) ‘Essential’ constant. Cannot scale data.”"
     ]
    },
    {
     "name": "stdout",
     "output_type": "stream",
     "text": [
      "[1] \"Developer 6\"\n",
      "             Precision    Recall F-measure\n",
      "J48          0.6666667 0.8333333 0.6933333\n",
      "NaiveBayes   0.3666667 0.4166667 0.5666667\n",
      "SVM          1.0000000 0.7500000 0.8514286\n",
      "oneR         0.5666667 0.7083333 0.6500000\n",
      "JRip         0.9000000 0.8166667 0.8247619\n",
      "RandomForest 0.7666667 0.7666667 0.7200000\n",
      "SMO          0.8666667 0.8000000 0.7800000\n"
     ]
    },
    {
     "name": "stderr",
     "output_type": "stream",
     "text": [
      "Warning message in svm.default(x, y, scale = scale, ..., na.action = na.action):\n",
      "“Variable(s) ‘Essential’ constant. Cannot scale data.”"
     ]
    },
    {
     "name": "stdout",
     "output_type": "stream",
     "text": [
      "[1] \"Developer 9\"\n",
      "             Precision    Recall F-measure\n",
      "J48                0.2 0.1250000 0.6666667\n",
      "NaiveBayes         0.4 0.2500000 0.6666667\n",
      "SVM                0.2 0.1666667 0.6666667\n",
      "oneR               0.0 0.0000000       NaN\n",
      "JRip               0.0 0.0000000       NaN\n",
      "RandomForest       0.4 0.2666667 0.7500000\n",
      "SMO                0.7 0.3333333 0.5583333\n"
     ]
    },
    {
     "name": "stderr",
     "output_type": "stream",
     "text": [
      "Warning message in svm.default(x, y, scale = scale, ..., na.action = na.action):\n",
      "“Variable(s) ‘Essential’ constant. Cannot scale data.”"
     ]
    },
    {
     "name": "stdout",
     "output_type": "stream",
     "text": [
      "[1] \"Developer 55\"\n",
      "             Precision    Recall F-measure\n",
      "J48                0.5 0.4166667 0.6555556\n",
      "NaiveBayes         0.4 0.4333333 0.6555556\n",
      "SVM                1.0 0.6000000 0.7466667\n",
      "oneR               0.8 0.5333333 0.6266667\n",
      "JRip               1.0 0.6000000 0.7466667\n",
      "RandomForest       0.3 0.2500000 0.6000000\n",
      "SMO                0.5 0.3750000 0.6111111\n"
     ]
    },
    {
     "name": "stderr",
     "output_type": "stream",
     "text": [
      "Warning message in svm.default(x, y, scale = scale, ..., na.action = na.action):\n",
      "“Variable(s) ‘Essential’ constant. Cannot scale data.”"
     ]
    },
    {
     "name": "stdout",
     "output_type": "stream",
     "text": [
      "[1] \"Developer 58\"\n",
      "             Precision    Recall F-measure\n",
      "J48                0.1 0.1666667 0.5000000\n",
      "NaiveBayes         0.4 0.3750000 0.5555556\n",
      "SVM                0.9 0.5000000 0.6266667\n",
      "oneR               0.8 0.5416667 0.7000000\n",
      "JRip               0.3 0.3333333 0.4500000\n",
      "RandomForest       0.6 0.5333333 0.6583333\n",
      "SMO                0.4 0.2916667 0.7333333\n"
     ]
    },
    {
     "name": "stderr",
     "output_type": "stream",
     "text": [
      "Warning message in svm.default(x, y, scale = scale, ..., na.action = na.action):\n",
      "“Variable(s) ‘Essential’ constant. Cannot scale data.”"
     ]
    },
    {
     "name": "stdout",
     "output_type": "stream",
     "text": [
      "[1] \"Developer 60\"\n",
      "             Precision    Recall F-measure\n",
      "J48                0.3 0.3750000 0.7500000\n",
      "NaiveBayes         0.1 0.1111111 0.4000000\n",
      "SVM                0.0 0.0000000       NaN\n",
      "oneR               0.5 0.5000000 0.6111111\n",
      "JRip               0.4 0.3750000 0.8333333\n",
      "RandomForest       0.5 0.6250000 0.8333333\n",
      "SMO                0.1 0.1666667 0.4000000\n"
     ]
    },
    {
     "name": "stderr",
     "output_type": "stream",
     "text": [
      "Warning message in svm.default(x, y, scale = scale, ..., na.action = na.action):\n",
      "“Variable(s) ‘Essential’ constant. Cannot scale data.”"
     ]
    },
    {
     "name": "stdout",
     "output_type": "stream",
     "text": [
      "[1] \"Developer 84\"\n",
      "             Precision     Recall F-measure\n",
      "J48                0.0 0.00000000       NaN\n",
      "NaiveBayes         0.5 0.29166667 0.5000000\n",
      "SVM                0.0        NaN       NaN\n",
      "oneR               0.2 0.33333333 1.0000000\n",
      "JRip               0.0 0.00000000       NaN\n",
      "RandomForest       0.2 0.12500000 0.6666667\n",
      "SMO                0.2 0.08333333 0.5000000\n"
     ]
    },
    {
     "name": "stderr",
     "output_type": "stream",
     "text": [
      "Warning message in svm.default(x, y, scale = scale, ..., na.action = na.action):\n",
      "“Variable(s) ‘Essential’ constant. Cannot scale data.”"
     ]
    },
    {
     "name": "stdout",
     "output_type": "stream",
     "text": [
      "[1] \"Developer 97\"\n",
      "             Precision    Recall F-measure\n",
      "J48                0.8 0.5333333      0.80\n",
      "NaiveBayes         0.8 0.7333333      0.76\n",
      "SVM                1.0 0.6666667      0.80\n",
      "oneR               1.0 0.6666667      0.80\n",
      "JRip               1.0 0.6666667      0.80\n",
      "RandomForest       0.8 0.6000000      0.68\n",
      "SMO                0.9 0.7000000      0.78\n"
     ]
    },
    {
     "name": "stderr",
     "output_type": "stream",
     "text": [
      "Warning message in svm.default(x, y, scale = scale, ..., na.action = na.action):\n",
      "“Variable(s) ‘Essential’ constant. Cannot scale data.”"
     ]
    },
    {
     "name": "stdout",
     "output_type": "stream",
     "text": [
      "[1] \"Developer 99\"\n",
      "             Precision    Recall F-measure\n",
      "J48                0.0 0.0000000       NaN\n",
      "NaiveBayes         0.9 0.5333333 0.6333333\n",
      "SVM                0.0 0.0000000       NaN\n",
      "oneR               0.3 0.6666667 0.8333333\n",
      "JRip               0.0 0.0000000       NaN\n",
      "RandomForest       0.3 0.4000000 0.8333333\n",
      "SMO                0.4 0.2777778 0.5833333\n"
     ]
    },
    {
     "name": "stderr",
     "output_type": "stream",
     "text": [
      "Warning message in svm.default(x, y, scale = scale, ..., na.action = na.action):\n",
      "“Variable(s) ‘Essential’ constant. Cannot scale data.”"
     ]
    },
    {
     "name": "stdout",
     "output_type": "stream",
     "text": [
      "[1] \"Developer 101\"\n",
      "             Precision    Recall F-measure\n",
      "J48                0.2 0.2500000 1.0000000\n",
      "NaiveBayes         0.5 0.5000000 0.6666667\n",
      "SVM                0.2 0.5000000 0.6666667\n",
      "oneR               0.4 0.5000000 1.0000000\n",
      "JRip               0.1 0.5000000 0.6666667\n",
      "RandomForest       0.3 0.6666667 0.8333333\n",
      "SMO                0.0 0.0000000       NaN\n"
     ]
    },
    {
     "name": "stderr",
     "output_type": "stream",
     "text": [
      "Warning message in svm.default(x, y, scale = scale, ..., na.action = na.action):\n",
      "“Variable(s) ‘Essential’ constant. Cannot scale data.”"
     ]
    },
    {
     "name": "stdout",
     "output_type": "stream",
     "text": [
      "[1] \"Developer 103\"\n",
      "             Precision    Recall F-measure\n",
      "J48                0.5 0.7222222 0.7111111\n",
      "NaiveBayes         0.8 0.8333333 0.7600000\n",
      "SVM                0.8 0.7000000 0.6600000\n",
      "oneR               0.5 0.5000000 0.6555556\n",
      "JRip               0.8 0.6666667 0.7750000\n",
      "RandomForest       0.7 0.6666667 0.7416667\n",
      "SMO                1.0 0.7333333 0.8266667\n",
      "[1] \"DCL\"\n"
     ]
    },
    {
     "name": "stderr",
     "output_type": "stream",
     "text": [
      "Warning message in svm.default(x, y, scale = scale, ..., na.action = na.action):\n",
      "“Variable(s) ‘CountDeclClassMethod’ constant. Cannot scale data.”Warning message in svm.default(x, y, scale = scale, ..., na.action = na.action):\n",
      "“Variable(s) ‘CountDeclClassMethod’ and ‘CountDeclMethodPrivate’ constant. Cannot scale data.”Warning message in svm.default(x, y, scale = scale, ..., na.action = na.action):\n",
      "“Variable(s) ‘CountDeclClassMethod’ constant. Cannot scale data.”Warning message in svm.default(x, y, scale = scale, ..., na.action = na.action):\n",
      "“Variable(s) ‘CountDeclClassMethod’ constant. Cannot scale data.”Warning message in svm.default(x, y, scale = scale, ..., na.action = na.action):\n",
      "“Variable(s) ‘CountClassBase’ and ‘CountDeclClassMethod’ constant. Cannot scale data.”"
     ]
    },
    {
     "name": "stdout",
     "output_type": "stream",
     "text": [
      "[1] \"Developer 2\"\n",
      "             Precision    Recall F-measure\n",
      "J48                0.7 0.7333333 0.6600000\n",
      "NaiveBayes         0.6 0.9166667 0.7833333\n",
      "SVM                1.0 0.6000000 0.7466667\n",
      "oneR               0.8 0.9000000 0.8333333\n",
      "JRip               0.9 0.7333333 0.7600000\n",
      "RandomForest       0.9 0.9000000 0.8666667\n",
      "SMO                0.9 0.9333333 0.8933333\n"
     ]
    },
    {
     "name": "stderr",
     "output_type": "stream",
     "text": [
      "Warning message in svm.default(x, y, scale = scale, ..., na.action = na.action):\n",
      "“Variable(s) ‘CountDeclClassMethod’ constant. Cannot scale data.”Warning message in svm.default(x, y, scale = scale, ..., na.action = na.action):\n",
      "“Variable(s) ‘CountClassBase’ and ‘CountDeclClassMethod’ constant. Cannot scale data.”Warning message in svm.default(x, y, scale = scale, ..., na.action = na.action):\n",
      "“Variable(s) ‘CountDeclClassMethod’ constant. Cannot scale data.”Warning message in svm.default(x, y, scale = scale, ..., na.action = na.action):\n",
      "“Variable(s) ‘CountDeclClassMethod’ constant. Cannot scale data.”Warning message in svm.default(x, y, scale = scale, ..., na.action = na.action):\n",
      "“Variable(s) ‘AvgEssential’ and ‘CountDeclClassMethod’ and ‘CountDeclMethodPrivate’ and ‘MaxEssential’ constant. Cannot scale data.”"
     ]
    },
    {
     "name": "stdout",
     "output_type": "stream",
     "text": [
      "[1] \"Developer 17\"\n",
      "             Precision    Recall F-measure\n",
      "J48                0.7 0.7916667 0.7833333\n",
      "NaiveBayes         0.8 0.8333333 0.7600000\n",
      "SVM                1.0 0.6000000 0.7466667\n",
      "oneR               0.8 0.7333333 0.7266667\n",
      "JRip               0.7 0.5666667 0.7333333\n",
      "RandomForest       0.9 0.8333333 0.8266667\n",
      "SMO                0.8 0.7000000 0.7000000\n"
     ]
    },
    {
     "name": "stderr",
     "output_type": "stream",
     "text": [
      "Warning message in svm.default(x, y, scale = scale, ..., na.action = na.action):\n",
      "“Variable(s) ‘CountDeclClassMethod’ constant. Cannot scale data.”Warning message in svm.default(x, y, scale = scale, ..., na.action = na.action):\n",
      "“Variable(s) ‘CountClassBase’ and ‘CountDeclClassMethod’ constant. Cannot scale data.”Warning message in svm.default(x, y, scale = scale, ..., na.action = na.action):\n",
      "“Variable(s) ‘CountDeclClassMethod’ constant. Cannot scale data.”Warning message in svm.default(x, y, scale = scale, ..., na.action = na.action):\n",
      "“Variable(s) ‘CountDeclClassMethod’ and ‘CountDeclMethodPrivate’ constant. Cannot scale data.”Warning message in svm.default(x, y, scale = scale, ..., na.action = na.action):\n",
      "“Variable(s) ‘CountDeclClassMethod’ constant. Cannot scale data.”"
     ]
    },
    {
     "name": "stdout",
     "output_type": "stream",
     "text": [
      "[1] \"Developer 18\"\n",
      "             Precision    Recall F-measure\n",
      "J48                0.9 1.0000000 0.9333333\n",
      "NaiveBayes         0.9 0.9333333 0.8933333\n",
      "SVM                1.0 0.7500000 0.8514286\n",
      "oneR               0.9 0.8833333 0.8647619\n",
      "JRip               0.8 0.8166667 0.7580952\n",
      "RandomForest       1.0 0.8833333 0.9314286\n",
      "SMO                1.0 0.8166667 0.8914286\n"
     ]
    },
    {
     "name": "stderr",
     "output_type": "stream",
     "text": [
      "Warning message in svm.default(x, y, scale = scale, ..., na.action = na.action):\n",
      "“Variable(s) ‘CountDeclClassMethod’ constant. Cannot scale data.”Warning message in svm.default(x, y, scale = scale, ..., na.action = na.action):\n",
      "“Variable(s) ‘CountDeclClassMethod’ and ‘CountDeclMethodPrivate’ constant. Cannot scale data.”Warning message in svm.default(x, y, scale = scale, ..., na.action = na.action):\n",
      "“Variable(s) ‘CountDeclClassMethod’ constant. Cannot scale data.”Warning message in svm.default(x, y, scale = scale, ..., na.action = na.action):\n",
      "“Variable(s) ‘CountDeclClassMethod’ constant. Cannot scale data.”Warning message in svm.default(x, y, scale = scale, ..., na.action = na.action):\n",
      "“Variable(s) ‘CountClassBase’ and ‘CountDeclClassMethod’ constant. Cannot scale data.”"
     ]
    },
    {
     "name": "stdout",
     "output_type": "stream",
     "text": [
      "[1] \"Developer 19\"\n",
      "             Precision    Recall F-measure\n",
      "J48                0.8 0.9166667 0.9500000\n",
      "NaiveBayes         0.9 1.0000000 0.9333333\n",
      "SVM                0.0       NaN       NaN\n",
      "oneR               0.6 0.8333333 0.8888889\n",
      "JRip               0.6 0.6666667 0.9333333\n",
      "RandomForest       1.0 0.9333333 0.9600000\n",
      "SMO                1.0 0.8333333 0.8933333\n"
     ]
    },
    {
     "name": "stderr",
     "output_type": "stream",
     "text": [
      "Warning message in svm.default(x, y, scale = scale, ..., na.action = na.action):\n",
      "“Variable(s) ‘CountDeclClassMethod’ constant. Cannot scale data.”Warning message in svm.default(x, y, scale = scale, ..., na.action = na.action):\n",
      "“Variable(s) ‘CountClassBase’ and ‘CountDeclClassMethod’ constant. Cannot scale data.”Warning message in svm.default(x, y, scale = scale, ..., na.action = na.action):\n",
      "“Variable(s) ‘CountDeclClassMethod’ constant. Cannot scale data.”Warning message in svm.default(x, y, scale = scale, ..., na.action = na.action):\n",
      "“Variable(s) ‘CountDeclClassMethod’ constant. Cannot scale data.”Warning message in svm.default(x, y, scale = scale, ..., na.action = na.action):\n",
      "“Variable(s) ‘CountDeclClassMethod’ and ‘CountDeclMethodPrivate’ constant. Cannot scale data.”"
     ]
    },
    {
     "name": "stdout",
     "output_type": "stream",
     "text": [
      "[1] \"Developer 21\"\n",
      "             Precision    Recall F-measure\n",
      "J48                0.9 1.0000000 0.9333333\n",
      "NaiveBayes         0.7 1.0000000 0.9166667\n",
      "SVM                1.0 0.6000000 0.7466667\n",
      "oneR               0.9 0.8666667 0.8533333\n",
      "JRip               1.0 0.7666667 0.8533333\n",
      "RandomForest       1.0 1.0000000 1.0000000\n",
      "SMO                1.0 1.0000000 1.0000000\n"
     ]
    },
    {
     "name": "stderr",
     "output_type": "stream",
     "text": [
      "Warning message in svm.default(x, y, scale = scale, ..., na.action = na.action):\n",
      "“Variable(s) ‘CountDeclClassMethod’ constant. Cannot scale data.”Warning message in svm.default(x, y, scale = scale, ..., na.action = na.action):\n",
      "“Variable(s) ‘CountClassBase’ and ‘CountDeclClassMethod’ constant. Cannot scale data.”Warning message in svm.default(x, y, scale = scale, ..., na.action = na.action):\n",
      "“Variable(s) ‘CountDeclClassMethod’ constant. Cannot scale data.”Warning message in svm.default(x, y, scale = scale, ..., na.action = na.action):\n",
      "“Variable(s) ‘CountDeclClassMethod’ constant. Cannot scale data.”Warning message in svm.default(x, y, scale = scale, ..., na.action = na.action):\n",
      "“Variable(s) ‘CountDeclClassMethod’ and ‘CountDeclMethodPrivate’ constant. Cannot scale data.”"
     ]
    },
    {
     "name": "stdout",
     "output_type": "stream",
     "text": [
      "[1] \"Developer 22\"\n",
      "             Precision    Recall F-measure\n",
      "J48                0.8 0.8666667 0.7866667\n",
      "NaiveBayes         0.3 0.5000000 0.6111111\n",
      "SVM                1.0 0.6000000 0.7466667\n",
      "oneR               0.8 0.5333333 0.6266667\n",
      "JRip               0.9 0.8666667 0.8533333\n",
      "RandomForest       0.7 0.4666667 0.6916667\n",
      "SMO                0.5 0.5416667 0.7666667\n"
     ]
    },
    {
     "name": "stderr",
     "output_type": "stream",
     "text": [
      "Warning message in svm.default(x, y, scale = scale, ..., na.action = na.action):\n",
      "“Variable(s) ‘CountDeclClassMethod’ constant. Cannot scale data.”Warning message in svm.default(x, y, scale = scale, ..., na.action = na.action):\n",
      "“Variable(s) ‘CountDeclClassMethod’ constant. Cannot scale data.”Warning message in svm.default(x, y, scale = scale, ..., na.action = na.action):\n",
      "“Variable(s) ‘CountClassBase’ and ‘CountDeclClassMethod’ and ‘CountDeclMethodPrivate’ constant. Cannot scale data.”Warning message in svm.default(x, y, scale = scale, ..., na.action = na.action):\n",
      "“Variable(s) ‘CountDeclClassMethod’ constant. Cannot scale data.”Warning message in svm.default(x, y, scale = scale, ..., na.action = na.action):\n",
      "“Variable(s) ‘CountDeclClassMethod’ constant. Cannot scale data.”"
     ]
    },
    {
     "name": "stdout",
     "output_type": "stream",
     "text": [
      "[1] \"Developer 27\"\n",
      "             Precision    Recall F-measure\n",
      "J48                0.6 1.0000000 1.0000000\n",
      "NaiveBayes         1.0 0.8666667 0.9000000\n",
      "SVM                0.0       NaN       NaN\n",
      "oneR               0.0 0.0000000       NaN\n",
      "JRip               0.6 0.5555556 0.6666667\n",
      "RandomForest       0.8 0.8333333 0.8750000\n",
      "SMO                0.8 0.7083333 0.7916667\n"
     ]
    },
    {
     "name": "stderr",
     "output_type": "stream",
     "text": [
      "Warning message in svm.default(x, y, scale = scale, ..., na.action = na.action):\n",
      "“Variable(s) ‘CountDeclClassMethod’ constant. Cannot scale data.”Warning message in svm.default(x, y, scale = scale, ..., na.action = na.action):\n",
      "“Variable(s) ‘CountDeclClassMethod’ constant. Cannot scale data.”Warning message in svm.default(x, y, scale = scale, ..., na.action = na.action):\n",
      "“Variable(s) ‘CountDeclClassMethod’ and ‘CountDeclMethodPrivate’ constant. Cannot scale data.”Warning message in svm.default(x, y, scale = scale, ..., na.action = na.action):\n",
      "“Variable(s) ‘CountClassBase’ and ‘CountDeclClassMethod’ constant. Cannot scale data.”Warning message in svm.default(x, y, scale = scale, ..., na.action = na.action):\n",
      "“Variable(s) ‘CountDeclClassMethod’ constant. Cannot scale data.”"
     ]
    },
    {
     "name": "stdout",
     "output_type": "stream",
     "text": [
      "[1] \"Developer 30\"\n",
      "             Precision    Recall F-measure\n",
      "J48                0.4 0.3333333 0.6666667\n",
      "NaiveBayes         1.0 0.8000000 0.8666667\n",
      "SVM                0.0       NaN       NaN\n",
      "oneR               0.2 0.2500000 0.6666667\n",
      "JRip               0.6 0.5000000 0.7777778\n",
      "RandomForest       1.0 0.8000000 0.8666667\n",
      "SMO                1.0 0.8000000 0.8666667\n"
     ]
    },
    {
     "name": "stderr",
     "output_type": "stream",
     "text": [
      "Warning message in svm.default(x, y, scale = scale, ..., na.action = na.action):\n",
      "“Variable(s) ‘CountDeclClassMethod’ constant. Cannot scale data.”Warning message in svm.default(x, y, scale = scale, ..., na.action = na.action):\n",
      "“Variable(s) ‘CountDeclClassMethod’ constant. Cannot scale data.”Warning message in svm.default(x, y, scale = scale, ..., na.action = na.action):\n",
      "“Variable(s) ‘CountDeclClassMethod’ constant. Cannot scale data.”Warning message in svm.default(x, y, scale = scale, ..., na.action = na.action):\n",
      "“Variable(s) ‘CountDeclClassMethod’ constant. Cannot scale data.”Warning message in svm.default(x, y, scale = scale, ..., na.action = na.action):\n",
      "“Variable(s) ‘CountClassBase’ and ‘CountDeclClassMethod’ and ‘CountDeclMethodPrivate’ constant. Cannot scale data.”"
     ]
    },
    {
     "name": "stdout",
     "output_type": "stream",
     "text": [
      "[1] \"Developer 77\"\n",
      "             Precision    Recall F-measure\n",
      "J48          0.9000000 0.8166667 0.8247619\n",
      "NaiveBayes   0.4666667 0.7500000 0.6416667\n",
      "SVM          1.0000000 0.8166667 0.8914286\n",
      "oneR         0.9333333 0.8000000 0.8533333\n",
      "JRip         1.0000000 0.8166667 0.8914286\n",
      "RandomForest 0.9000000 0.8166667 0.8247619\n",
      "SMO          0.8666667 0.8000000 0.8133333\n"
     ]
    },
    {
     "name": "stderr",
     "output_type": "stream",
     "text": [
      "Warning message in svm.default(x, y, scale = scale, ..., na.action = na.action):\n",
      "“Variable(s) ‘CountDeclClassMethod’ constant. Cannot scale data.”Warning message in svm.default(x, y, scale = scale, ..., na.action = na.action):\n",
      "“Variable(s) ‘CountClassBase’ and ‘CountDeclClassMethod’ constant. Cannot scale data.”Warning message in svm.default(x, y, scale = scale, ..., na.action = na.action):\n",
      "“Variable(s) ‘CountDeclClassMethod’ constant. Cannot scale data.”Warning message in svm.default(x, y, scale = scale, ..., na.action = na.action):\n",
      "“Variable(s) ‘CountDeclClassMethod’ constant. Cannot scale data.”Warning message in svm.default(x, y, scale = scale, ..., na.action = na.action):\n",
      "“Variable(s) ‘CountDeclClassMethod’ and ‘CountDeclMethodPrivate’ constant. Cannot scale data.”"
     ]
    },
    {
     "name": "stdout",
     "output_type": "stream",
     "text": [
      "[1] \"Developer 86\"\n",
      "             Precision    Recall F-measure\n",
      "J48                0.9 1.0000000 0.9333333\n",
      "NaiveBayes         0.7 1.0000000 0.9166667\n",
      "SVM                1.0 0.6000000 0.7466667\n",
      "oneR               0.9 0.8666667 0.8533333\n",
      "JRip               1.0 0.7666667 0.8533333\n",
      "RandomForest       1.0 1.0000000 1.0000000\n",
      "SMO                1.0 1.0000000 1.0000000\n"
     ]
    },
    {
     "name": "stderr",
     "output_type": "stream",
     "text": [
      "Warning message in svm.default(x, y, scale = scale, ..., na.action = na.action):\n",
      "“Variable(s) ‘CountDeclClassMethod’ constant. Cannot scale data.”Warning message in svm.default(x, y, scale = scale, ..., na.action = na.action):\n",
      "“Variable(s) ‘CountDeclClassMethod’ constant. Cannot scale data.”Warning message in svm.default(x, y, scale = scale, ..., na.action = na.action):\n",
      "“Variable(s) ‘CountDeclClassMethod’ constant. Cannot scale data.”Warning message in svm.default(x, y, scale = scale, ..., na.action = na.action):\n",
      "“Variable(s) ‘CountClassBase’ and ‘CountDeclClassMethod’ constant. Cannot scale data.”Warning message in svm.default(x, y, scale = scale, ..., na.action = na.action):\n",
      "“Variable(s) ‘CountDeclClassMethod’ and ‘CountDeclMethodPrivate’ constant. Cannot scale data.”"
     ]
    },
    {
     "name": "stdout",
     "output_type": "stream",
     "text": [
      "[1] \"Developer 93\"\n",
      "             Precision    Recall F-measure\n",
      "J48                0.8 0.8000000 0.7666667\n",
      "NaiveBayes         0.8 0.9000000 0.8000000\n",
      "SVM                0.6 0.4444444 0.6111111\n",
      "oneR               0.9 0.8000000 0.8000000\n",
      "JRip               0.9 0.9000000 0.8666667\n",
      "RandomForest       0.9 0.8333333 0.8266667\n",
      "SMO                0.9 0.8333333 0.8266667\n"
     ]
    },
    {
     "name": "stderr",
     "output_type": "stream",
     "text": [
      "Warning message in svm.default(x, y, scale = scale, ..., na.action = na.action):\n",
      "“Variable(s) ‘CountDeclClassMethod’ constant. Cannot scale data.”Warning message in svm.default(x, y, scale = scale, ..., na.action = na.action):\n",
      "“Variable(s) ‘CountClassBase’ and ‘CountDeclClassMethod’ constant. Cannot scale data.”Warning message in svm.default(x, y, scale = scale, ..., na.action = na.action):\n",
      "“Variable(s) ‘CountDeclClassMethod’ constant. Cannot scale data.”Warning message in svm.default(x, y, scale = scale, ..., na.action = na.action):\n",
      "“Variable(s) ‘CountDeclClassMethod’ constant. Cannot scale data.”Warning message in svm.default(x, y, scale = scale, ..., na.action = na.action):\n",
      "“Variable(s) ‘CountDeclClassMethod’ and ‘CountDeclMethodPrivate’ constant. Cannot scale data.”"
     ]
    },
    {
     "name": "stdout",
     "output_type": "stream",
     "text": [
      "[1] \"Developer 104\"\n",
      "             Precision    Recall F-measure\n",
      "J48                0.9 1.0000000 0.9333333\n",
      "NaiveBayes         0.7 1.0000000 0.9166667\n",
      "SVM                1.0 0.6000000 0.7466667\n",
      "oneR               0.9 0.8666667 0.8533333\n",
      "JRip               1.0 0.7666667 0.8533333\n",
      "RandomForest       1.0 1.0000000 1.0000000\n",
      "SMO                1.0 1.0000000 1.0000000\n",
      "[1] \"GC\"\n"
     ]
    },
    {
     "name": "stderr",
     "output_type": "stream",
     "text": [
      "Warning message in svm.default(x, y, scale = scale, ..., na.action = na.action):\n",
      "“Variable(s) ‘CountDeclClassMethod’ constant. Cannot scale data.”"
     ]
    },
    {
     "name": "stdout",
     "output_type": "stream",
     "text": [
      "[1] \"Developer 1\"\n",
      "             Precision    Recall F-measure\n",
      "J48               1.00 0.8750000 0.9166667\n",
      "NaiveBayes        1.00 0.7000000 0.9166667\n",
      "SVM               0.25 0.5000000 0.6666667\n",
      "oneR              0.50 0.6666667 1.0000000\n",
      "JRip              0.25 0.5000000 1.0000000\n",
      "RandomForest      0.50 0.6666667 1.0000000\n",
      "SMO               0.75 0.6250000 0.8888889\n"
     ]
    },
    {
     "name": "stderr",
     "output_type": "stream",
     "text": [
      "Warning message in svm.default(x, y, scale = scale, ..., na.action = na.action):\n",
      "“Variable(s) ‘CountDeclClassMethod’ constant. Cannot scale data.”"
     ]
    },
    {
     "name": "stdout",
     "output_type": "stream",
     "text": [
      "[1] \"Developer 9\"\n",
      "             Precision    Recall F-measure\n",
      "J48                0.4 0.3333333 0.6666667\n",
      "NaiveBayes         1.0 0.9000000 0.9333333\n",
      "SVM                0.6 0.8333333 0.8888889\n",
      "oneR               1.0 1.0000000 1.0000000\n",
      "JRip               1.0 1.0000000 1.0000000\n",
      "RandomForest       1.0 0.9000000 0.9333333\n",
      "SMO                0.8 0.8750000 0.9166667\n"
     ]
    },
    {
     "name": "stderr",
     "output_type": "stream",
     "text": [
      "Warning message in svm.default(x, y, scale = scale, ..., na.action = na.action):\n",
      "“Variable(s) ‘CountDeclClassMethod’ constant. Cannot scale data.”"
     ]
    },
    {
     "name": "stdout",
     "output_type": "stream",
     "text": [
      "[1] \"Developer 13\"\n",
      "             Precision    Recall F-measure\n",
      "J48                0.8 0.7500000 0.8333333\n",
      "NaiveBayes         0.6 0.7777778 0.8333333\n",
      "SVM                0.0       NaN       NaN\n",
      "oneR               0.6 0.7777778 0.8333333\n",
      "JRip               0.4 0.6666667 0.7500000\n",
      "RandomForest       0.6 0.7777778 0.8333333\n",
      "SMO                0.2 0.2500000 1.0000000\n"
     ]
    },
    {
     "name": "stderr",
     "output_type": "stream",
     "text": [
      "Warning message in svm.default(x, y, scale = scale, ..., na.action = na.action):\n",
      "“Variable(s) ‘CountDeclClassMethod’ constant. Cannot scale data.”"
     ]
    },
    {
     "name": "stdout",
     "output_type": "stream",
     "text": [
      "[1] \"Developer 15\"\n",
      "             Precision    Recall F-measure\n",
      "J48                0.4 0.3333333 0.7500000\n",
      "NaiveBayes         0.2 0.1250000 0.6666667\n",
      "SVM                0.0       NaN       NaN\n",
      "oneR               0.0 0.0000000       NaN\n",
      "JRip               0.0 0.0000000       NaN\n",
      "RandomForest       0.2 0.5000000 1.0000000\n",
      "SMO                0.6 0.6000000 1.0000000\n"
     ]
    },
    {
     "name": "stderr",
     "output_type": "stream",
     "text": [
      "Warning message in svm.default(x, y, scale = scale, ..., na.action = na.action):\n",
      "“Variable(s) ‘CountDeclClassMethod’ constant. Cannot scale data.”"
     ]
    },
    {
     "name": "stdout",
     "output_type": "stream",
     "text": [
      "[1] \"Developer 16\"\n",
      "             Precision    Recall F-measure\n",
      "J48                0.4 0.3333333 0.6666667\n",
      "NaiveBayes         1.0 0.9000000 0.9333333\n",
      "SVM                0.6 0.8333333 0.8888889\n",
      "oneR               1.0 1.0000000 1.0000000\n",
      "JRip               1.0 1.0000000 1.0000000\n",
      "RandomForest       1.0 0.9000000 0.9333333\n",
      "SMO                0.8 0.8750000 0.9166667\n"
     ]
    },
    {
     "name": "stderr",
     "output_type": "stream",
     "text": [
      "Warning message in svm.default(x, y, scale = scale, ..., na.action = na.action):\n",
      "“Variable(s) ‘CountDeclClassMethod’ constant. Cannot scale data.”"
     ]
    },
    {
     "name": "stdout",
     "output_type": "stream",
     "text": [
      "[1] \"Developer 61\"\n",
      "             Precision Recall F-measure\n",
      "J48               0.25   0.25 1.0000000\n",
      "NaiveBayes        0.00   0.00       NaN\n",
      "SVM               0.00    NaN       NaN\n",
      "oneR              0.50   0.25 0.6666667\n",
      "JRip              0.00   0.00       NaN\n",
      "RandomForest      0.00   0.00       NaN\n",
      "SMO               0.00   0.00       NaN\n"
     ]
    },
    {
     "name": "stderr",
     "output_type": "stream",
     "text": [
      "Warning message in svm.default(x, y, scale = scale, ..., na.action = na.action):\n",
      "“Variable(s) ‘CountDeclClassMethod’ constant. Cannot scale data.”"
     ]
    },
    {
     "name": "stdout",
     "output_type": "stream",
     "text": [
      "[1] \"Developer 62\"\n",
      "             Precision    Recall F-measure\n",
      "J48                0.6 0.3750000 0.6555556\n",
      "NaiveBayes         0.5 0.5000000 0.7777778\n",
      "SVM                0.0       NaN       NaN\n",
      "oneR               0.3 0.5000000 0.6666667\n",
      "JRip               0.0       NaN       NaN\n",
      "RandomForest       0.1 0.3333333 0.6666667\n",
      "SMO                0.5 0.6111111 0.6666667\n"
     ]
    },
    {
     "name": "stderr",
     "output_type": "stream",
     "text": [
      "Warning message in svm.default(x, y, scale = scale, ..., na.action = na.action):\n",
      "“Variable(s) ‘CountDeclClassMethod’ constant. Cannot scale data.”"
     ]
    },
    {
     "name": "stdout",
     "output_type": "stream",
     "text": [
      "[1] \"Developer 66\"\n",
      "             Precision    Recall F-measure\n",
      "J48          0.3333333 0.3333333 1.0000000\n",
      "NaiveBayes   0.6666667 0.5000000 0.8333333\n",
      "SVM          0.0000000       NaN       NaN\n",
      "oneR         0.3333333 0.5000000 1.0000000\n",
      "JRip         0.3333333 0.5000000 1.0000000\n",
      "RandomForest 0.6666667 0.6666667 1.0000000\n",
      "SMO          0.6666667 0.5000000 0.8333333\n"
     ]
    },
    {
     "name": "stderr",
     "output_type": "stream",
     "text": [
      "Warning message in svm.default(x, y, scale = scale, ..., na.action = na.action):\n",
      "“Variable(s) ‘CountDeclClassMethod’ constant. Cannot scale data.”"
     ]
    },
    {
     "name": "stdout",
     "output_type": "stream",
     "text": [
      "[1] \"Developer 84\"\n",
      "             Precision    Recall F-measure\n",
      "J48                0.6 0.5000000 0.7777778\n",
      "NaiveBayes         0.4 0.5000000 0.8333333\n",
      "SVM                0.0       NaN       NaN\n",
      "oneR               0.2 0.1666667 0.6666667\n",
      "JRip               0.0       NaN       NaN\n",
      "RandomForest       0.4 0.5000000 0.8333333\n",
      "SMO                0.4 0.6666667 1.0000000\n"
     ]
    },
    {
     "name": "stderr",
     "output_type": "stream",
     "text": [
      "Warning message in svm.default(x, y, scale = scale, ..., na.action = na.action):\n",
      "“Variable(s) ‘CountDeclClassMethod’ constant. Cannot scale data.”"
     ]
    },
    {
     "name": "stdout",
     "output_type": "stream",
     "text": [
      "[1] \"Developer 94\"\n",
      "             Precision    Recall F-measure\n",
      "J48                0.8 0.7916667 0.8666667\n",
      "NaiveBayes         0.8 0.8750000 0.9166667\n",
      "SVM                0.6 1.0000000 1.0000000\n",
      "oneR               0.8 0.7916667 0.8666667\n",
      "JRip               0.8 0.7916667 0.8666667\n",
      "RandomForest       0.8 0.8750000 0.9166667\n",
      "SMO                0.8 1.0000000 1.0000000\n"
     ]
    },
    {
     "name": "stderr",
     "output_type": "stream",
     "text": [
      "Warning message in svm.default(x, y, scale = scale, ..., na.action = na.action):\n",
      "“Variable(s) ‘CountDeclClassMethod’ constant. Cannot scale data.”"
     ]
    },
    {
     "name": "stdout",
     "output_type": "stream",
     "text": [
      "[1] \"Developer 102\"\n",
      "             Precision     Recall F-measure\n",
      "J48                0.6 0.61111111 0.7222222\n",
      "NaiveBayes         0.4 0.44444444 0.7500000\n",
      "SVM                0.0        NaN       NaN\n",
      "oneR               0.2 0.08333333 0.5000000\n",
      "JRip               0.0        NaN       NaN\n",
      "RandomForest       0.0 0.00000000       NaN\n",
      "SMO                0.4 0.66666667 0.7500000\n"
     ]
    },
    {
     "name": "stderr",
     "output_type": "stream",
     "text": [
      "Warning message in svm.default(x, y, scale = scale, ..., na.action = na.action):\n",
      "“Variable(s) ‘CountDeclClassMethod’ constant. Cannot scale data.”"
     ]
    },
    {
     "name": "stdout",
     "output_type": "stream",
     "text": [
      "[1] \"Developer 103\"\n",
      "             Precision    Recall F-measure\n",
      "J48                0.8 1.0000000 0.8666667\n",
      "NaiveBayes         0.9 0.9000000 0.8666667\n",
      "SVM                0.8 1.0000000 1.0000000\n",
      "oneR               0.7 0.8750000 0.8750000\n",
      "JRip               0.5 0.8333333 0.8333333\n",
      "RandomForest       0.9 1.0000000 0.9333333\n",
      "SMO                0.7 1.0000000 0.9166667\n",
      "[1] \"II\"\n",
      "[1] \"Developer 2\"\n",
      "             Precision    Recall F-measure\n",
      "J48                0.5 0.3333333 0.6555556\n",
      "NaiveBayes         0.5 0.4666667 0.5416667\n",
      "SVM                0.8 0.6666667 0.6666667\n",
      "oneR               0.9 0.6333333 0.7266667\n",
      "JRip               0.4 0.2777778 0.5833333\n",
      "RandomForest       0.6 0.4000000 0.5750000\n",
      "SMO                0.5 0.3000000 0.6000000\n",
      "[1] \"Developer 7\"\n",
      "             Precision    Recall F-measure\n",
      "J48                0.4 0.3333333 0.6500000\n",
      "NaiveBayes         0.8 0.6666667 0.7833333\n",
      "SVM                0.0 0.0000000       NaN\n",
      "oneR               0.4 0.5833333 0.6111111\n",
      "JRip               0.2 0.1666667 0.5000000\n",
      "RandomForest       0.7 0.7000000 0.8333333\n",
      "SMO                0.7 0.5000000 0.6666667\n",
      "[1] \"Developer 21\"\n",
      "             Precision    Recall F-measure\n",
      "J48                0.3 0.4166667 0.7333333\n",
      "NaiveBayes         0.8 0.5666667 0.8166667\n",
      "SVM                0.9 0.5666667 0.6866667\n",
      "oneR               0.7 0.5333333 0.7416667\n",
      "JRip               0.6 0.4583333 0.7555556\n",
      "RandomForest       0.9 0.7000000 0.7466667\n",
      "SMO                0.8 0.6666667 0.7200000\n",
      "[1] \"Developer 22\"\n",
      "             Precision Recall F-measure\n",
      "J48                  0      0       NaN\n",
      "NaiveBayes           0      0       NaN\n",
      "SVM                  0    NaN       NaN\n",
      "oneR                 0      0       NaN\n",
      "JRip                 0    NaN       NaN\n",
      "RandomForest         0      0       NaN\n",
      "SMO                  0      0       NaN\n",
      "[1] \"Developer 24\"\n",
      "             Precision    Recall F-measure\n",
      "J48                0.6 0.6666667 0.7777778\n",
      "NaiveBayes         0.6 0.7777778 0.8333333\n",
      "SVM                0.0 0.0000000       NaN\n",
      "oneR               0.4 0.5000000 0.6666667\n",
      "JRip               0.2 1.0000000 1.0000000\n",
      "RandomForest       0.6 0.8333333 0.8888889\n",
      "SMO                0.6 0.2666667 0.6111111\n",
      "[1] \"Developer 25\"\n",
      "             Precision    Recall F-measure\n",
      "J48                0.8 0.5000000 0.6066667\n",
      "NaiveBayes         0.4 0.6250000 0.6666667\n",
      "SVM                0.5 0.8333333 0.6250000\n",
      "oneR               0.7 0.4333333 0.5133333\n",
      "JRip               0.6 0.4444444 0.6111111\n",
      "RandomForest       0.8 0.5666667 0.7916667\n",
      "SMO                0.7 0.6666667 0.6916667\n",
      "[1] \"Developer 28\"\n",
      "             Precision    Recall F-measure\n",
      "J48                0.7 0.8750000 0.8333333\n",
      "NaiveBayes         0.9 0.6666667 0.7000000\n",
      "SVM                0.3 0.6666667 0.5833333\n",
      "oneR               0.7 0.7500000 0.7500000\n",
      "JRip               0.4 1.0000000 1.0000000\n",
      "RandomForest       0.9 0.9000000 0.8666667\n",
      "SMO                0.9 0.9000000 0.8666667\n",
      "[1] \"Developer 86\"\n",
      "             Precision    Recall F-measure\n",
      "J48                0.2 0.2500000 0.6666667\n",
      "NaiveBayes         0.6 0.6666667 0.7777778\n",
      "SVM                0.0 0.0000000       NaN\n",
      "oneR               0.4 0.3333333 0.6666667\n",
      "JRip               0.4 0.5000000 0.6666667\n",
      "RandomForest       0.6 0.6666667 0.7777778\n",
      "SMO                0.6 0.8333333 0.8888889\n",
      "[1] \"Developer 104\"\n",
      "             Precision    Recall F-measure\n",
      "J48               0.25 0.1666667      0.50\n",
      "NaiveBayes        0.25 0.1666667      0.50\n",
      "SVM               0.00       NaN       NaN\n",
      "oneR              0.25 0.1111111      0.50\n",
      "JRip              0.00       NaN       NaN\n",
      "RandomForest      0.00 0.0000000       NaN\n",
      "SMO               0.50 0.4444444      0.75\n",
      "[1] \"Developer 110\"\n",
      "             Precision    Recall F-measure\n",
      "J48                0.6 0.7083333 0.6666667\n",
      "NaiveBayes         0.7 0.7000000 0.6333333\n",
      "SVM                0.8 0.7000000 0.6600000\n",
      "oneR               0.4 0.4583333 0.5555556\n",
      "JRip               0.6 0.4444444 0.6111111\n",
      "RandomForest       0.8 0.6666667 0.6666667\n",
      "SMO                0.6 0.8750000 0.7500000\n",
      "[1] \"Developer 111\"\n",
      "             Precision    Recall F-measure\n",
      "J48                0.8 0.8333333 0.7933333\n",
      "NaiveBayes         0.8 0.7333333 0.6933333\n",
      "SVM                0.8 0.6000000 0.6733333\n",
      "oneR               0.6 0.7333333 0.7833333\n",
      "JRip               0.9 0.6666667 0.7200000\n",
      "RandomForest       0.7 0.7333333 0.6600000\n",
      "SMO                0.5 0.7500000 0.6666667\n",
      "[1] \"Developer 124\"\n",
      "             Precision    Recall F-measure\n",
      "J48                0.4 0.5000000 0.8333333\n",
      "NaiveBayes         0.4 0.4333333 0.6555556\n",
      "SVM                0.8 0.6666667 0.6333333\n",
      "oneR               0.5 0.4583333 0.6111111\n",
      "JRip               0.7 0.5833333 0.6250000\n",
      "RandomForest       0.8 0.8333333 0.7600000\n",
      "SMO                0.9 0.9000000 0.8666667\n",
      "[1] \"LM\"\n",
      "[1] \"Developer 41\"\n",
      "             Precision    Recall F-measure\n",
      "J48                0.8 0.7666667 0.7533333\n",
      "NaiveBayes         0.8 0.7666667 0.7533333\n",
      "SVM                1.0 0.6666667 0.8000000\n",
      "oneR               0.6 0.5833333 0.6500000\n",
      "JRip               0.9 0.6333333 0.7400000\n",
      "RandomForest       1.0 0.7333333 0.8400000\n",
      "SMO                0.9 0.6333333 0.7400000\n",
      "[1] \"Developer 42\"\n",
      "             Precision    Recall F-measure\n",
      "J48          0.9000000 0.7833333 0.8314286\n",
      "NaiveBayes   1.0000000 0.8833333 0.9314286\n",
      "SVM          1.0000000 0.8166667 0.8914286\n",
      "oneR         0.9000000 0.7833333 0.8314286\n",
      "JRip         0.6666667 0.7833333 0.6647619\n",
      "RandomForest 0.9000000 1.0000000 0.9333333\n",
      "SMO          0.7333333 0.7833333 0.7247619\n",
      "[1] \"Developer 43\"\n",
      "             Precision    Recall F-measure\n",
      "J48                0.7 0.5000000 0.7000000\n",
      "NaiveBayes         0.6 0.7916667 0.7416667\n",
      "SVM                0.6 0.6666667 0.6583333\n",
      "oneR               0.7 0.5833333 0.6666667\n",
      "JRip               0.6 0.5833333 0.5833333\n",
      "RandomForest       0.8 0.8333333 0.7933333\n",
      "SMO                0.7 0.6666667 0.7416667\n",
      "[1] \"Developer 45\"\n",
      "             Precision    Recall F-measure\n",
      "J48                0.8 0.7666667 0.7533333\n",
      "NaiveBayes         0.8 0.9333333 0.8266667\n",
      "SVM                0.8 0.6000000 0.6800000\n",
      "oneR               0.9 0.6333333 0.7400000\n",
      "JRip               1.0 0.6666667 0.8000000\n",
      "RandomForest       0.9 0.8000000 0.8133333\n",
      "SMO                0.7 0.6666667 0.6533333\n",
      "[1] \"Developer 46\"\n",
      "             Precision    Recall F-measure\n",
      "J48                1.0 0.8333333 0.8933333\n",
      "NaiveBayes         0.8 0.9000000 0.8333333\n",
      "SVM                0.7 0.6666667 0.7416667\n",
      "oneR               0.5 0.4444444 0.5555556\n",
      "JRip               0.9 0.8000000 0.8333333\n",
      "RandomForest       0.9 0.9000000 0.9000000\n",
      "SMO                0.6 0.7916667 0.7416667\n",
      "[1] \"Developer 47\"\n",
      "             Precision    Recall F-measure\n",
      "J48                0.9 0.8166667 0.8247619\n",
      "NaiveBayes         0.8 0.9333333 0.8266667\n",
      "SVM                0.9 0.7500000 0.7847619\n",
      "oneR               0.9 0.7166667 0.7914286\n",
      "JRip               0.9 0.7166667 0.7914286\n",
      "RandomForest       0.8 0.7833333 0.7647619\n",
      "SMO                0.8 0.8166667 0.7580952\n",
      "[1] \"Developer 49\"\n",
      "             Precision    Recall F-measure\n",
      "J48                0.4 0.4166667 0.9000000\n",
      "NaiveBayes         0.5 0.7777778 0.7222222\n",
      "SVM                0.2 0.5000000 1.0000000\n",
      "oneR               1.0 0.6666667 0.7600000\n",
      "JRip               0.6 0.6111111 0.7222222\n",
      "RandomForest       0.6 0.7777778 0.8333333\n",
      "SMO                0.5 0.5833333 0.7222222\n",
      "[1] \"Developer 51\"\n",
      "             Precision    Recall F-measure\n",
      "J48                0.6 0.5833333 0.8666667\n",
      "NaiveBayes         0.3 0.3888889 0.6500000\n",
      "SVM                0.6 0.6666667 0.6583333\n",
      "oneR               0.7 0.5666667 0.7333333\n",
      "JRip               1.0 0.7000000 0.8133333\n",
      "RandomForest       0.8 0.7333333 0.7266667\n",
      "SMO                0.3 0.3888889 0.6500000\n",
      "[1] \"Developer 64\"\n",
      "             Precision    Recall F-measure\n",
      "J48          0.9000000 0.8666667 0.8533333\n",
      "NaiveBayes   1.0000000 0.8666667 0.9200000\n",
      "SVM          0.9000000 0.7500000 0.7847619\n",
      "oneR         0.6333333 0.8333333 0.7666667\n",
      "JRip         0.9000000 1.0000000 0.9333333\n",
      "RandomForest 1.0000000 1.0000000 1.0000000\n",
      "SMO          0.7000000 0.9500000 0.7714286\n",
      "[1] \"Developer 74\"\n",
      "             Precision    Recall F-measure\n",
      "J48                0.8 0.6666667 0.7200000\n",
      "NaiveBayes         0.3 0.8333333 0.7333333\n",
      "SVM                0.9 0.7666667 0.7866667\n",
      "oneR               0.6 0.3666667 0.7555556\n",
      "JRip               0.8 0.6333333 0.6600000\n",
      "RandomForest       0.8 0.7666667 0.7533333\n",
      "SMO                0.5 0.5555556 0.6555556\n",
      "[1] \"Developer 81\"\n",
      "             Precision    Recall F-measure\n",
      "J48                0.8 0.6666667 0.6866667\n",
      "NaiveBayes         0.6 0.7000000 0.7500000\n",
      "SVM                0.9 0.7333333 0.7600000\n",
      "oneR               0.9 0.8000000 0.8000000\n",
      "JRip               1.0 0.6000000 0.7466667\n",
      "RandomForest       0.7 0.7000000 0.8333333\n",
      "SMO                0.5 0.6250000 0.7777778\n",
      "[1] \"Developer 95\"\n",
      "             Precision    Recall F-measure\n",
      "J48                0.3 0.2500000 0.5833333\n",
      "NaiveBayes         0.3 0.3333333 0.5833333\n",
      "SVM                0.4 0.2083333 0.5833333\n",
      "oneR               0.2 0.1250000 0.6666667\n",
      "JRip               0.5 0.3333333 0.5555556\n",
      "RandomForest       0.5 0.3750000 0.6111111\n",
      "SMO                0.0 0.0000000       NaN\n",
      "[1] \"MC\"\n",
      "[1] \"Developer 5\"\n",
      "             Precision    Recall F-measure\n",
      "J48                1.0 0.9000000 0.9333333\n",
      "NaiveBayes         0.4 0.6666667 0.7500000\n",
      "SVM                0.4 0.6666667 0.7500000\n",
      "oneR               0.8 0.7500000 0.8333333\n",
      "JRip               0.8 0.7500000 0.8333333\n",
      "RandomForest       0.6 0.6250000 0.8888889\n",
      "SMO                0.5 0.8333333 0.7777778\n",
      "[1] \"Developer 6\"\n",
      "             Precision    Recall F-measure\n",
      "J48          0.9000000 0.7833333 0.8314286\n",
      "NaiveBayes   0.4333333 0.6000000 0.6000000\n",
      "SVM          1.0000000 0.8166667 0.8914286\n",
      "oneR         0.9000000 0.8166667 0.8247619\n",
      "JRip         0.8000000 0.6833333 0.9142857\n",
      "RandomForest 0.9000000 0.7833333 0.8314286\n",
      "SMO          1.0000000 0.8166667 0.8914286\n",
      "[1] \"Developer 10\"\n",
      "             Precision Recall F-measure\n",
      "J48                  0      0       NaN\n",
      "NaiveBayes           0      0       NaN\n",
      "SVM                  0    NaN       NaN\n",
      "oneR                 0      0       NaN\n",
      "JRip                 0    NaN       NaN\n",
      "RandomForest         0    NaN       NaN\n",
      "SMO                  0    NaN       NaN\n",
      "[1] \"Developer 52\"\n",
      "             Precision    Recall F-measure\n",
      "J48                  1 0.9333333 0.9600000\n",
      "NaiveBayes           1 0.8166667 0.8914286\n",
      "SVM                  1 0.7500000 0.8514286\n",
      "oneR                 1 0.9333333 0.9600000\n",
      "JRip                 1 0.8666667 0.9200000\n",
      "RandomForest         1 0.7500000 0.8514286\n",
      "SMO                  1 0.7500000 0.8514286\n",
      "[1] \"Developer 53\"\n",
      "             Precision Recall F-measure\n",
      "J48                  0      0       NaN\n",
      "NaiveBayes           0      0       NaN\n",
      "SVM                  0    NaN       NaN\n",
      "oneR                 0      0       NaN\n",
      "JRip                 0      0       NaN\n",
      "RandomForest         0    NaN       NaN\n",
      "SMO                  0    NaN       NaN\n",
      "[1] \"Developer 55\"\n",
      "             Precision    Recall F-measure\n",
      "J48                0.7 0.4333333 0.6666667\n",
      "NaiveBayes         0.3 0.5000000 0.5833333\n",
      "SVM                0.9 0.5666667 0.6866667\n",
      "oneR               0.3 0.4166667 0.7333333\n",
      "JRip               1.0 0.6000000 0.7466667\n",
      "RandomForest       0.2 0.2083333 0.4500000\n",
      "SMO                0.8 0.4666667 0.7333333\n",
      "[1] \"Developer 58\"\n",
      "             Precision Recall F-measure\n",
      "J48          0.3333333  0.250 0.6666667\n",
      "NaiveBayes   0.3333333  0.125 0.6666667\n",
      "SVM          0.0000000    NaN       NaN\n",
      "oneR         0.0000000  0.000       NaN\n",
      "JRip         0.0000000  0.000       NaN\n",
      "RandomForest 0.0000000    NaN       NaN\n",
      "SMO          0.0000000    NaN       NaN\n",
      "[1] \"Developer 60\"\n",
      "             Precision    Recall F-measure\n",
      "J48                0.3 0.2083333 0.5333333\n",
      "NaiveBayes         0.1 0.5000000 0.6666667\n",
      "SVM                0.5 0.5000000 0.6666667\n",
      "oneR               0.2 0.1250000 0.6666667\n",
      "JRip               0.4 0.3333333 0.6666667\n",
      "RandomForest       0.3 0.2000000 0.5833333\n",
      "SMO                0.3 0.3750000 0.6666667\n",
      "[1] \"Developer 91\"\n",
      "             Precision    Recall F-measure\n",
      "J48                0.2 0.1666667 0.5000000\n",
      "NaiveBayes         0.6 0.2000000 0.5000000\n",
      "SVM                0.0       NaN       NaN\n",
      "oneR               0.2 1.0000000 1.0000000\n",
      "JRip               0.2 0.1666667 0.5000000\n",
      "RandomForest       0.6 0.7777778 0.8333333\n",
      "SMO                0.0 0.0000000       NaN\n",
      "[1] \"Developer 97\"\n",
      "             Precision    Recall F-measure\n",
      "J48                0.6 0.5416667 0.6166667\n",
      "NaiveBayes         0.4 0.6666667 0.6111111\n",
      "SVM                1.0 0.6000000 0.7466667\n",
      "oneR               0.7 0.5833333 0.6916667\n",
      "JRip               0.7 0.4333333 0.6583333\n",
      "RandomForest       0.4 0.5416667 0.6555556\n",
      "SMO                0.6 0.4333333 0.6166667\n",
      "[1] \"Developer 99\"\n",
      "             Precision    Recall F-measure\n",
      "J48                0.9 0.7666667 0.7666667\n",
      "NaiveBayes         0.5 0.6250000 0.8333333\n",
      "SVM                0.5 0.8333333 0.8333333\n",
      "oneR               0.3 0.5000000 0.7500000\n",
      "JRip               0.3 0.7500000 0.6666667\n",
      "RandomForest       0.3 0.5000000 0.7500000\n",
      "SMO                0.5 0.8333333 0.8333333\n",
      "[1] \"Developer 101\"\n",
      "             Precision    Recall F-measure\n",
      "J48                0.8 0.7000000 0.7133333\n",
      "NaiveBayes         0.4 0.8750000 0.6250000\n",
      "SVM                1.0 0.6666667 0.8000000\n",
      "oneR               0.7 0.6666667 0.6533333\n",
      "JRip               1.0 0.6666667 0.8000000\n",
      "RandomForest       0.8 0.7333333 0.7600000\n",
      "SMO                1.0 0.6666667 0.8000000\n",
      "[1] \"MM\"\n"
     ]
    },
    {
     "name": "stderr",
     "output_type": "stream",
     "text": [
      "Warning message in svm.default(x, y, scale = scale, ..., na.action = na.action):\n",
      "“Variable(s) ‘CountClassDerived’ constant. Cannot scale data.”Warning message in svm.default(x, y, scale = scale, ..., na.action = na.action):\n",
      "“Variable(s) ‘CountDeclClassMethod’ constant. Cannot scale data.”"
     ]
    },
    {
     "name": "stdout",
     "output_type": "stream",
     "text": [
      "[1] \"Developer 8\"\n",
      "             Precision    Recall F-measure\n",
      "J48               0.50 0.5000000 0.8333333\n",
      "NaiveBayes        0.50 0.2500000 0.6666667\n",
      "SVM               0.25 1.0000000 1.0000000\n",
      "oneR              0.50 0.5000000 0.8333333\n",
      "JRip              0.00 0.0000000       NaN\n",
      "RandomForest      0.50 0.6666667 1.0000000\n",
      "SMO               0.50 0.5000000 0.6666667\n"
     ]
    },
    {
     "name": "stderr",
     "output_type": "stream",
     "text": [
      "Warning message in svm.default(x, y, scale = scale, ..., na.action = na.action):\n",
      "“Variable(s) ‘CountDeclClassMethod’ constant. Cannot scale data.”"
     ]
    },
    {
     "name": "stdout",
     "output_type": "stream",
     "text": [
      "[1] \"Developer 11\"\n",
      "             Precision    Recall F-measure\n",
      "J48                0.2 0.1666667 0.6666667\n",
      "NaiveBayes         0.1 0.1666667 0.5000000\n",
      "SVM                0.0       NaN       NaN\n",
      "oneR               0.3 0.3333333 0.5833333\n",
      "JRip               0.0 0.0000000       NaN\n",
      "RandomForest       0.0 0.0000000       NaN\n",
      "SMO                0.2 0.1666667 0.6666667\n"
     ]
    },
    {
     "name": "stderr",
     "output_type": "stream",
     "text": [
      "Warning message in svm.default(x, y, scale = scale, ..., na.action = na.action):\n",
      "“Variable(s) ‘CountDeclMethodProtected’ constant. Cannot scale data.”Warning message in svm.default(x, y, scale = scale, ..., na.action = na.action):\n",
      "“Variable(s) ‘CountDeclClassMethod’ constant. Cannot scale data.”Warning message in svm.default(x, y, scale = scale, ..., na.action = na.action):\n",
      "“Variable(s) ‘CountDeclMethodDefault’ constant. Cannot scale data.”"
     ]
    },
    {
     "name": "stdout",
     "output_type": "stream",
     "text": [
      "[1] \"Developer 39\"\n",
      "             Precision    Recall F-measure\n",
      "J48               0.75 0.5833333 0.8333333\n",
      "NaiveBayes        0.75 0.4000000 0.7777778\n",
      "SVM               0.25 1.0000000 1.0000000\n",
      "oneR              0.00 0.0000000       NaN\n",
      "JRip              0.50 0.6666667 1.0000000\n",
      "RandomForest      0.50 0.6666667 1.0000000\n",
      "SMO               0.50 0.7500000 0.8333333\n"
     ]
    },
    {
     "name": "stderr",
     "output_type": "stream",
     "text": [
      "Warning message in svm.default(x, y, scale = scale, ..., na.action = na.action):\n",
      "“Variable(s) ‘CountDeclClassMethod’ constant. Cannot scale data.”"
     ]
    },
    {
     "name": "stdout",
     "output_type": "stream",
     "text": [
      "[1] \"Developer 40\"\n",
      "             Precision    Recall F-measure\n",
      "J48                0.6 0.7916667 0.7000000\n",
      "NaiveBayes         0.8 0.9166667 0.9500000\n",
      "SVM                1.0 0.8000000 0.8600000\n",
      "oneR               0.8 0.7083333 0.8166667\n",
      "JRip               0.6 0.4166667 0.7000000\n",
      "RandomForest       0.8 0.7916667 0.8666667\n",
      "SMO                1.0 0.8000000 0.8600000\n"
     ]
    },
    {
     "name": "stderr",
     "output_type": "stream",
     "text": [
      "Warning message in svm.default(x, y, scale = scale, ..., na.action = na.action):\n",
      "“Variable(s) ‘CountDeclClassMethod’ constant. Cannot scale data.”"
     ]
    },
    {
     "name": "stdout",
     "output_type": "stream",
     "text": [
      "[1] \"Developer 41\"\n",
      "             Precision    Recall F-measure\n",
      "J48                0.4 0.5000000 0.8333333\n",
      "NaiveBayes         1.0 0.6000000 0.7266667\n",
      "SVM                0.0 0.0000000       NaN\n",
      "oneR               0.4 0.5000000 0.6666667\n",
      "JRip               0.2 0.1666667 0.5000000\n",
      "RandomForest       0.9 0.6666667 0.7000000\n",
      "SMO                0.7 0.4583333 0.5833333\n"
     ]
    },
    {
     "name": "stderr",
     "output_type": "stream",
     "text": [
      "Warning message in svm.default(x, y, scale = scale, ..., na.action = na.action):\n",
      "“Variable(s) ‘CountClassDerived’ constant. Cannot scale data.”Warning message in svm.default(x, y, scale = scale, ..., na.action = na.action):\n",
      "“Variable(s) ‘CountDeclClassMethod’ constant. Cannot scale data.”"
     ]
    },
    {
     "name": "stdout",
     "output_type": "stream",
     "text": [
      "[1] \"Developer 42\"\n",
      "             Precision    Recall F-measure\n",
      "J48                0.4 0.5000000 0.8333333\n",
      "NaiveBayes         0.8 0.5000000 0.7500000\n",
      "SVM                0.4 0.7500000 0.8333333\n",
      "oneR               0.0 0.0000000       NaN\n",
      "JRip               0.2 0.5000000 0.6666667\n",
      "RandomForest       0.4 0.7500000 0.8333333\n",
      "SMO                0.6 0.4583333 0.7222222\n"
     ]
    },
    {
     "name": "stderr",
     "output_type": "stream",
     "text": [
      "Warning message in svm.default(x, y, scale = scale, ..., na.action = na.action):\n",
      "“Variable(s) ‘CountDeclClassMethod’ constant. Cannot scale data.”"
     ]
    },
    {
     "name": "stdout",
     "output_type": "stream",
     "text": [
      "[1] \"Developer 43\"\n",
      "             Precision Recall F-measure\n",
      "J48                  0      0       NaN\n",
      "NaiveBayes           0      0       NaN\n",
      "SVM                  0    NaN       NaN\n",
      "oneR                 0      0       NaN\n",
      "JRip                 0    NaN       NaN\n",
      "RandomForest         0    NaN       NaN\n",
      "SMO                  0      0       NaN\n"
     ]
    },
    {
     "name": "stderr",
     "output_type": "stream",
     "text": [
      "Warning message in svm.default(x, y, scale = scale, ..., na.action = na.action):\n",
      "“Variable(s) ‘CountDeclClassMethod’ constant. Cannot scale data.”"
     ]
    },
    {
     "name": "stdout",
     "output_type": "stream",
     "text": [
      "[1] \"Developer 45\"\n",
      "             Precision    Recall F-measure\n",
      "J48                0.6 0.5000000 0.7777778\n",
      "NaiveBayes         0.8 0.6250000 0.7500000\n",
      "SVM                0.0       NaN       NaN\n",
      "oneR               0.0 0.0000000       NaN\n",
      "JRip               0.2 0.2500000 0.6666667\n",
      "RandomForest       0.8 0.6250000 0.7500000\n",
      "SMO                0.4 0.3333333 0.6666667\n"
     ]
    },
    {
     "name": "stderr",
     "output_type": "stream",
     "text": [
      "Warning message in svm.default(x, y, scale = scale, ..., na.action = na.action):\n",
      "“Variable(s) ‘CountDeclClassMethod’ constant. Cannot scale data.”"
     ]
    },
    {
     "name": "stdout",
     "output_type": "stream",
     "text": [
      "[1] \"Developer 46\"\n",
      "             Precision    Recall F-measure\n",
      "J48                0.1 0.1666667 0.5000000\n",
      "NaiveBayes         0.6 0.6666667 0.7777778\n",
      "SVM                0.0 0.0000000       NaN\n",
      "oneR               0.1 0.2500000 0.5000000\n",
      "JRip               0.5 0.5000000 0.6111111\n",
      "RandomForest       0.0 0.0000000       NaN\n",
      "SMO                0.3 0.3750000 0.7500000\n"
     ]
    },
    {
     "name": "stderr",
     "output_type": "stream",
     "text": [
      "Warning message in svm.default(x, y, scale = scale, ..., na.action = na.action):\n",
      "“Variable(s) ‘CountDeclClassMethod’ constant. Cannot scale data.”"
     ]
    },
    {
     "name": "stdout",
     "output_type": "stream",
     "text": [
      "[1] \"Developer 47\"\n",
      "             Precision    Recall F-measure\n",
      "J48                0.3 0.5000000 0.6666667\n",
      "NaiveBayes         0.8 0.5333333 0.7833333\n",
      "SVM                0.0 0.0000000       NaN\n",
      "oneR               0.0 0.0000000       NaN\n",
      "JRip               0.2 0.2500000 0.6666667\n",
      "RandomForest       0.5 0.3666667 0.6111111\n",
      "SMO                0.3 0.3000000 0.7500000\n"
     ]
    },
    {
     "name": "stderr",
     "output_type": "stream",
     "text": [
      "Warning message in svm.default(x, y, scale = scale, ..., na.action = na.action):\n",
      "“Variable(s) ‘CountDeclClassMethod’ constant. Cannot scale data.”"
     ]
    },
    {
     "name": "stdout",
     "output_type": "stream",
     "text": [
      "[1] \"Developer 74\"\n",
      "             Precision    Recall F-measure\n",
      "J48                0.2 0.1250000 0.6666667\n",
      "NaiveBayes         0.8 0.4333333 0.6666667\n",
      "SVM                0.0 0.0000000       NaN\n",
      "oneR               0.0 0.0000000       NaN\n",
      "JRip               0.2 0.1666667 0.6666667\n",
      "RandomForest       0.2 0.3333333 1.0000000\n",
      "SMO                0.2 0.2000000 1.0000000\n"
     ]
    },
    {
     "name": "stderr",
     "output_type": "stream",
     "text": [
      "Warning message in svm.default(x, y, scale = scale, ..., na.action = na.action):\n",
      "“Variable(s) ‘CountDeclClassMethod’ constant. Cannot scale data.”"
     ]
    },
    {
     "name": "stdout",
     "output_type": "stream",
     "text": [
      "[1] \"Developer 81\"\n",
      "             Precision    Recall F-measure\n",
      "J48                0.8 0.7083333 0.7916667\n",
      "NaiveBayes         0.6 0.3333333 0.5000000\n",
      "SVM                0.0 0.0000000       NaN\n",
      "oneR               0.8 0.8750000 0.9166667\n",
      "JRip               0.2 0.3333333 0.5000000\n",
      "RandomForest       0.2 0.5000000 0.6666667\n",
      "SMO                0.2 0.3333333 1.0000000\n",
      "[1] \"PO\"\n",
      "[1] \"Developer 46\"\n",
      "             Precision    Recall F-measure\n",
      "J48          0.7666667 1.0000000 0.8333333\n",
      "NaiveBayes   0.8666667 0.9333333 0.8800000\n",
      "SVM          1.0000000 0.8166667 0.8914286\n",
      "oneR         0.8666667 0.9333333 0.8600000\n",
      "JRip         0.8666667 0.8666667 0.8200000\n",
      "RandomForest 0.9333333 0.8666667 0.8933333\n",
      "SMO          0.9333333 0.8666667 0.8933333\n",
      "[1] \"Developer 47\"\n",
      "             Precision    Recall F-measure\n",
      "J48                0.6 0.7333333 0.6266667\n",
      "NaiveBayes         0.5 0.7333333 0.7000000\n",
      "SVM                0.9 0.6333333 0.7400000\n",
      "oneR               0.7 0.6333333 0.6600000\n",
      "JRip               0.9 0.6333333 0.7400000\n",
      "RandomForest       0.8 0.5333333 0.8000000\n",
      "SMO                0.7 0.5000000 0.7250000\n",
      "[1] \"Developer 49\"\n",
      "             Precision    Recall F-measure\n",
      "J48                0.6 0.5000000 0.7777778\n",
      "NaiveBayes         0.8 0.7500000 0.8333333\n",
      "SVM                0.4 1.0000000 1.0000000\n",
      "oneR               0.8 0.7083333 0.7916667\n",
      "JRip               0.2 0.5000000 0.6666667\n",
      "RandomForest       0.6 0.6250000 0.8888889\n",
      "SMO                0.8 0.4666667 0.7083333\n",
      "[1] \"Developer 51\"\n",
      "             Precision    Recall F-measure\n",
      "J48                0.6 0.5555556 0.7111111\n",
      "NaiveBayes         0.6 0.6666667 0.7000000\n",
      "SVM                0.4 0.1666667 0.5833333\n",
      "oneR               0.7 0.7083333 0.7333333\n",
      "JRip               0.8 0.5416667 0.7000000\n",
      "RandomForest       0.5 0.4000000 0.7222222\n",
      "SMO                0.6 0.5416667 0.6000000\n",
      "[1] \"Developer 52\"\n",
      "             Precision    Recall F-measure\n",
      "J48                0.6 0.8888889 0.9333333\n",
      "NaiveBayes         0.8 0.9166667 0.9500000\n",
      "SVM                0.8 0.6333333 0.8666667\n",
      "oneR               0.7 0.8750000 0.8750000\n",
      "JRip               0.5 0.6666667 0.7333333\n",
      "RandomForest       0.8 0.6333333 0.8666667\n",
      "SMO                0.6 0.6666667 0.9333333\n",
      "[1] \"Developer 53\"\n",
      "             Precision    Recall F-measure\n",
      "J48               0.25 0.3333333 1.0000000\n",
      "NaiveBayes        0.25 0.3333333 1.0000000\n",
      "SVM               0.00       NaN       NaN\n",
      "oneR              0.50 0.5000000 0.8333333\n",
      "JRip              0.00 0.0000000       NaN\n",
      "RandomForest      0.00 0.0000000       NaN\n",
      "SMO               0.75 0.6111111 0.7222222\n",
      "[1] \"Developer 64\"\n",
      "             Precision    Recall F-measure\n",
      "J48                0.4 0.5555556 0.6000000\n",
      "NaiveBayes         0.2 0.5000000 0.5833333\n",
      "SVM                0.5 0.6250000 0.7777778\n",
      "oneR               0.0 0.0000000       NaN\n",
      "JRip               0.1 0.5000000 0.5000000\n",
      "RandomForest       0.2 0.5000000 0.5833333\n",
      "SMO                0.1 0.1250000 0.5000000\n",
      "[1] \"Developer 74\"\n",
      "             Precision    Recall F-measure\n",
      "J48                0.7 0.7083333 0.7750000\n",
      "NaiveBayes         0.7 0.7083333 0.7750000\n",
      "SVM                0.9 0.6333333 0.7400000\n",
      "oneR               0.9 0.7333333 0.7733333\n",
      "JRip               0.9 0.6333333 0.7400000\n",
      "RandomForest       0.8 0.7500000 0.8500000\n",
      "SMO                0.8 0.7000000 0.7133333\n",
      "[1] \"Developer 91\"\n",
      "             Precision    Recall F-measure\n",
      "J48                0.2 0.2000000 0.5000000\n",
      "NaiveBayes         0.5 0.4333333 0.7111111\n",
      "SVM                0.5 0.6250000 0.7777778\n",
      "oneR               0.4 0.5000000 0.6666667\n",
      "JRip               0.0 0.0000000       NaN\n",
      "RandomForest       0.7 0.6333333 0.7833333\n",
      "SMO                0.6 0.6000000 0.7083333\n",
      "[1] \"Developer 95\"\n",
      "             Precision    Recall F-measure\n",
      "J48                0.4 0.3750000 0.8333333\n",
      "NaiveBayes         0.5 0.6666667 0.6666667\n",
      "SVM                0.2 0.5000000 0.6666667\n",
      "oneR               0.6 0.6250000 0.8888889\n",
      "JRip               0.2 0.2500000 0.6666667\n",
      "RandomForest       0.8 0.7500000 0.8333333\n",
      "SMO                0.2 0.3333333 1.0000000\n",
      "[1] \"Developer 105\"\n",
      "             Precision    Recall F-measure\n",
      "J48               0.50 0.5000000 1.0000000\n",
      "NaiveBayes        0.25 0.2500000 1.0000000\n",
      "SVM               0.00       NaN       NaN\n",
      "oneR              0.75 0.8333333 0.8888889\n",
      "JRip              0.00 0.0000000       NaN\n",
      "RandomForest      0.00 0.0000000       NaN\n",
      "SMO               0.75 0.5000000 0.7777778\n",
      "[1] \"Developer 109\"\n",
      "             Precision Recall F-measure\n",
      "J48                0.0      0       NaN\n",
      "NaiveBayes         0.0    NaN       NaN\n",
      "SVM                0.0    NaN       NaN\n",
      "oneR               0.0      0       NaN\n",
      "JRip               0.0      0       NaN\n",
      "RandomForest       0.0    NaN       NaN\n",
      "SMO                0.5      1         1\n",
      "[1] \"RB\"\n"
     ]
    },
    {
     "name": "stderr",
     "output_type": "stream",
     "text": [
      "Warning message in svm.default(x, y, scale = scale, ..., na.action = na.action):\n",
      "“Variable(s) ‘BCountDeclClassMethod’ and ‘BCountDeclMethodPrivate’ constant. Cannot scale data.”"
     ]
    },
    {
     "name": "stdout",
     "output_type": "stream",
     "text": [
      "[1] \"Developer 13\"\n",
      "             Precision    Recall F-measure\n",
      "J48                0.4 0.2083333 0.5833333\n",
      "NaiveBayes         0.2 0.3333333 1.0000000\n",
      "SVM                0.0       NaN       NaN\n",
      "oneR               0.0 0.0000000       NaN\n",
      "JRip               0.0       NaN       NaN\n",
      "RandomForest       0.2 0.1666667 0.6666667\n",
      "SMO                0.2 0.1111111 0.5000000\n"
     ]
    },
    {
     "name": "stderr",
     "output_type": "stream",
     "text": [
      "Warning message in svm.default(x, y, scale = scale, ..., na.action = na.action):\n",
      "“Variable(s) ‘BCountDeclMethodPrivate’ constant. Cannot scale data.”"
     ]
    },
    {
     "name": "stdout",
     "output_type": "stream",
     "text": [
      "[1] \"Developer 15\"\n",
      "             Precision    Recall F-measure\n",
      "J48                0.8 0.5666667 0.8166667\n",
      "NaiveBayes         0.8 0.5000000 0.5933333\n",
      "SVM                0.7 0.4583333 0.5833333\n",
      "oneR               0.6 0.2666667 0.6111111\n",
      "JRip               0.6 0.3750000 0.6555556\n",
      "RandomForest       0.6 0.6250000 0.6166667\n",
      "SMO                0.4 0.4666667 0.6111111\n"
     ]
    },
    {
     "name": "stderr",
     "output_type": "stream",
     "text": [
      "Warning message in svm.default(x, y, scale = scale, ..., na.action = na.action):\n",
      "“Variable(s) ‘BCountDeclMethodPrivate’ constant. Cannot scale data.”"
     ]
    },
    {
     "name": "stdout",
     "output_type": "stream",
     "text": [
      "[1] \"Developer 16\"\n",
      "             Precision    Recall F-measure\n",
      "J48                0.6 0.6000000 0.5666667\n",
      "NaiveBayes         0.3 0.4444444 0.4666667\n",
      "SVM                0.9 0.5666667 0.6866667\n",
      "oneR               0.7 0.6000000 0.6000000\n",
      "JRip               1.0 0.6000000 0.7466667\n",
      "RandomForest       0.6 0.5000000 0.5833333\n",
      "SMO                0.5 0.4583333 0.5166667\n"
     ]
    },
    {
     "name": "stderr",
     "output_type": "stream",
     "text": [
      "Warning message in svm.default(x, y, scale = scale, ..., na.action = na.action):\n",
      "“Variable(s) ‘BCountDeclMethodPrivate’ constant. Cannot scale data.”"
     ]
    },
    {
     "name": "stdout",
     "output_type": "stream",
     "text": [
      "[1] \"Developer 17\"\n",
      "             Precision    Recall F-measure\n",
      "J48          1.0000000 0.6666667 0.7777778\n",
      "NaiveBayes   0.0000000       NaN       NaN\n",
      "SVM          0.0000000       NaN       NaN\n",
      "oneR         0.6666667 0.7500000 0.8333333\n",
      "JRip         0.3333333 0.5000000 0.6666667\n",
      "RandomForest 0.6666667 1.0000000 1.0000000\n",
      "SMO          0.3333333 0.2500000 0.6666667\n"
     ]
    },
    {
     "name": "stderr",
     "output_type": "stream",
     "text": [
      "Warning message in svm.default(x, y, scale = scale, ..., na.action = na.action):\n",
      "“Variable(s) ‘BCountDeclMethodPrivate’ constant. Cannot scale data.”"
     ]
    },
    {
     "name": "stdout",
     "output_type": "stream",
     "text": [
      "[1] \"Developer 18\"\n",
      "             Precision    Recall F-measure\n",
      "J48                0.8 0.8750000 0.9166667\n",
      "NaiveBayes         0.7 0.8333333 0.8500000\n",
      "SVM                1.0 0.8333333 0.8933333\n",
      "oneR               0.8 0.8750000 0.9166667\n",
      "JRip               0.8 0.8000000 0.7666667\n",
      "RandomForest       0.8 0.8750000 0.9166667\n",
      "SMO                0.8 0.9166667 0.9500000\n"
     ]
    },
    {
     "name": "stderr",
     "output_type": "stream",
     "text": [
      "Warning message in svm.default(x, y, scale = scale, ..., na.action = na.action):\n",
      "“Variable(s) ‘BCountDeclMethodPrivate’ constant. Cannot scale data.”"
     ]
    },
    {
     "name": "stdout",
     "output_type": "stream",
     "text": [
      "[1] \"Developer 19\"\n",
      "             Precision    Recall F-measure\n",
      "J48                0.9 0.8666667 0.8533333\n",
      "NaiveBayes         1.0 0.6666667 0.7866667\n",
      "SVM                0.9 0.7333333 0.7600000\n",
      "oneR               1.0 0.8666667 0.9200000\n",
      "JRip               0.8 0.7000000 0.7066667\n",
      "RandomForest       0.8 0.8333333 0.7933333\n",
      "SMO                0.7 0.6666667 0.7416667\n"
     ]
    },
    {
     "name": "stderr",
     "output_type": "stream",
     "text": [
      "Warning message in svm.default(x, y, scale = scale, ..., na.action = na.action):\n",
      "“Variable(s) ‘BCountDeclMethodPrivate’ constant. Cannot scale data.”"
     ]
    },
    {
     "name": "stdout",
     "output_type": "stream",
     "text": [
      "[1] \"Developer 30\"\n",
      "             Precision    Recall F-measure\n",
      "J48                0.7 0.7500000 0.7916667\n",
      "NaiveBayes         0.7 0.7500000 0.7500000\n",
      "SVM                0.9 0.5000000 0.6266667\n",
      "oneR               0.9 0.8333333 0.8266667\n",
      "JRip               0.7 0.6250000 0.6666667\n",
      "RandomForest       0.7 0.7916667 0.7833333\n",
      "SMO                1.0 0.7333333 0.8266667\n"
     ]
    },
    {
     "name": "stderr",
     "output_type": "stream",
     "text": [
      "Warning message in svm.default(x, y, scale = scale, ..., na.action = na.action):\n",
      "“Variable(s) ‘BCountDeclMethodPrivate’ constant. Cannot scale data.”"
     ]
    },
    {
     "name": "stdout",
     "output_type": "stream",
     "text": [
      "[1] \"Developer 61\"\n",
      "             Precision    Recall F-measure\n",
      "J48                0.3 0.2500000 0.5833333\n",
      "NaiveBayes         0.2 0.1250000 0.6666667\n",
      "SVM                0.2 0.5000000 0.6666667\n",
      "oneR               0.2 0.1250000 0.6666667\n",
      "JRip               0.0 0.0000000       NaN\n",
      "RandomForest       0.2 0.1666667 0.6666667\n",
      "SMO                0.2 0.1666667 0.6666667\n"
     ]
    },
    {
     "name": "stderr",
     "output_type": "stream",
     "text": [
      "Warning message in svm.default(x, y, scale = scale, ..., na.action = na.action):\n",
      "“Variable(s) ‘BCountDeclMethodPrivate’ constant. Cannot scale data.”"
     ]
    },
    {
     "name": "stdout",
     "output_type": "stream",
     "text": [
      "[1] \"Developer 94\"\n",
      "             Precision    Recall F-measure\n",
      "J48                0.7 0.7083333 0.7083333\n",
      "NaiveBayes         0.4 0.2916667 0.7333333\n",
      "SVM                0.8 0.5000000 0.6583333\n",
      "oneR               0.8 0.6000000 0.6266667\n",
      "JRip               0.6 0.4444444 0.6111111\n",
      "RandomForest       0.6 0.7083333 0.6250000\n",
      "SMO                0.9 0.9333333 0.8933333\n"
     ]
    },
    {
     "name": "stderr",
     "output_type": "stream",
     "text": [
      "Warning message in svm.default(x, y, scale = scale, ..., na.action = na.action):\n",
      "“Variable(s) ‘BCountDeclMethodPrivate’ constant. Cannot scale data.”"
     ]
    },
    {
     "name": "stdout",
     "output_type": "stream",
     "text": [
      "[1] \"Developer 102\"\n",
      "             Precision    Recall F-measure\n",
      "J48                0.6 0.4666667 0.6416667\n",
      "NaiveBayes         0.8 0.7666667 0.7333333\n",
      "SVM                0.3 0.4166667 0.5000000\n",
      "oneR               0.7 0.7000000 0.8750000\n",
      "JRip               0.3 0.5000000 0.7500000\n",
      "RandomForest       0.8 0.7666667 0.7333333\n",
      "SMO                0.9 0.7000000 0.7266667\n"
     ]
    },
    {
     "name": "stderr",
     "output_type": "stream",
     "text": [
      "Warning message in svm.default(x, y, scale = scale, ..., na.action = na.action):\n",
      "“Variable(s) ‘BCountDeclMethodPrivate’ constant. Cannot scale data.”"
     ]
    },
    {
     "name": "stdout",
     "output_type": "stream",
     "text": [
      "[1] \"Developer 111\"\n",
      "             Precision    Recall F-measure\n",
      "J48          0.8333333 0.8666667 0.8266667\n",
      "NaiveBayes   0.6666667 0.6333333 0.8000000\n",
      "SVM          1.0000000 0.7500000 0.8514286\n",
      "oneR         0.7000000 0.7333333 0.8666667\n",
      "JRip         0.8000000 0.6000000 0.8500000\n",
      "RandomForest 0.9333333 0.8000000 0.8533333\n",
      "SMO          0.8666667 0.9333333 0.8600000\n"
     ]
    },
    {
     "name": "stderr",
     "output_type": "stream",
     "text": [
      "Warning message in svm.default(x, y, scale = scale, ..., na.action = na.action):\n",
      "“Variable(s) ‘BCountDeclMethodPrivate’ constant. Cannot scale data.”"
     ]
    },
    {
     "name": "stdout",
     "output_type": "stream",
     "text": [
      "[1] \"Developer 112\"\n",
      "             Precision    Recall F-measure\n",
      "J48               0.50 0.5000000 0.8333333\n",
      "NaiveBayes        0.25 0.1666667 0.6666667\n",
      "SVM               0.00       NaN       NaN\n",
      "oneR              0.25 0.1666667 0.5000000\n",
      "JRip              0.25 0.5000000 0.6666667\n",
      "RandomForest      0.25 0.5000000 1.0000000\n",
      "SMO               0.00 0.0000000       NaN\n",
      "[1] \"SG\"\n"
     ]
    },
    {
     "name": "stderr",
     "output_type": "stream",
     "text": [
      "Warning message in svm.default(x, y, scale = scale, ..., na.action = na.action):\n",
      "“Variable(s) ‘CountDeclMethodDefault’ constant. Cannot scale data.”Warning message in svm.default(x, y, scale = scale, ..., na.action = na.action):\n",
      "“Variable(s) ‘CountDeclMethodDefault’ constant. Cannot scale data.”Warning message in svm.default(x, y, scale = scale, ..., na.action = na.action):\n",
      "“Variable(s) ‘CountDeclClassMethod’ and ‘CountDeclMethodDefault’ constant. Cannot scale data.”Warning message in svm.default(x, y, scale = scale, ..., na.action = na.action):\n",
      "“Variable(s) ‘CountDeclMethodDefault’ constant. Cannot scale data.”Warning message in svm.default(x, y, scale = scale, ..., na.action = na.action):\n",
      "“Variable(s) ‘CountDeclMethodDefault’ constant. Cannot scale data.”"
     ]
    },
    {
     "name": "stdout",
     "output_type": "stream",
     "text": [
      "[1] \"Developer 5\"\n",
      "             Precision    Recall F-measure\n",
      "J48                0.4 0.1666667 0.5833333\n",
      "NaiveBayes         0.6 0.4583333 0.7222222\n",
      "SVM                0.4 1.0000000 1.0000000\n",
      "oneR               0.2 0.1666667 0.5000000\n",
      "JRip               0.2 0.3333333 0.5000000\n",
      "RandomForest       0.4 0.2777778 0.5833333\n",
      "SMO                0.4 0.3333333 0.7500000\n"
     ]
    },
    {
     "name": "stderr",
     "output_type": "stream",
     "text": [
      "Warning message in svm.default(x, y, scale = scale, ..., na.action = na.action):\n",
      "“Variable(s) ‘CountDeclMethodDefault’ constant. Cannot scale data.”Warning message in svm.default(x, y, scale = scale, ..., na.action = na.action):\n",
      "“Variable(s) ‘CountDeclMethodDefault’ constant. Cannot scale data.”Warning message in svm.default(x, y, scale = scale, ..., na.action = na.action):\n",
      "“Variable(s) ‘CountDeclMethodDefault’ and ‘CountDeclMethodPrivate’ constant. Cannot scale data.”Warning message in svm.default(x, y, scale = scale, ..., na.action = na.action):\n",
      "“Variable(s) ‘CountDeclMethodDefault’ constant. Cannot scale data.”Warning message in svm.default(x, y, scale = scale, ..., na.action = na.action):\n",
      "“Variable(s) ‘CountDeclClassMethod’ and ‘CountDeclMethodDefault’ constant. Cannot scale data.”"
     ]
    },
    {
     "name": "stdout",
     "output_type": "stream",
     "text": [
      "[1] \"Developer 49\"\n",
      "             Precision    Recall F-measure\n",
      "J48                0.4 0.3750000 0.5555556\n",
      "NaiveBayes         0.6 0.6666667 0.7777778\n",
      "SVM                0.2 0.1666667 0.5000000\n",
      "oneR               0.1 0.5000000 0.5000000\n",
      "JRip               0.4 0.5000000 0.5555556\n",
      "RandomForest       0.6 0.6250000 0.6250000\n",
      "SMO                0.7 0.8750000 0.8333333\n"
     ]
    },
    {
     "name": "stderr",
     "output_type": "stream",
     "text": [
      "Warning message in svm.default(x, y, scale = scale, ..., na.action = na.action):\n",
      "“Variable(s) ‘CountDeclMethodDefault’ constant. Cannot scale data.”Warning message in svm.default(x, y, scale = scale, ..., na.action = na.action):\n",
      "“Variable(s) ‘CountDeclMethodDefault’ constant. Cannot scale data.”Warning message in svm.default(x, y, scale = scale, ..., na.action = na.action):\n",
      "“Variable(s) ‘CountDeclMethodDefault’ constant. Cannot scale data.”Warning message in svm.default(x, y, scale = scale, ..., na.action = na.action):\n",
      "“Variable(s) ‘CountDeclMethodDefault’ constant. Cannot scale data.”Warning message in svm.default(x, y, scale = scale, ..., na.action = na.action):\n",
      "“Variable(s) ‘CountDeclClassMethod’ and ‘CountDeclMethodDefault’ constant. Cannot scale data.”"
     ]
    },
    {
     "name": "stdout",
     "output_type": "stream",
     "text": [
      "[1] \"Developer 51\"\n",
      "             Precision    Recall F-measure\n",
      "J48                0.4 0.4444444 0.5000000\n",
      "NaiveBayes         0.7 0.7083333 0.7333333\n",
      "SVM                0.7 0.3666667 0.5833333\n",
      "oneR               0.7 0.4333333 0.6500000\n",
      "JRip               0.6 0.4444444 0.6111111\n",
      "RandomForest       0.3 0.2916667 0.6500000\n",
      "SMO                0.7 0.5416667 0.6500000\n"
     ]
    },
    {
     "name": "stderr",
     "output_type": "stream",
     "text": [
      "Warning message in svm.default(x, y, scale = scale, ..., na.action = na.action):\n",
      "“Variable(s) ‘CountDeclClassMethod’ and ‘CountDeclMethodDefault’ constant. Cannot scale data.”Warning message in svm.default(x, y, scale = scale, ..., na.action = na.action):\n",
      "“Variable(s) ‘CountDeclMethodDefault’ constant. Cannot scale data.”Warning message in svm.default(x, y, scale = scale, ..., na.action = na.action):\n",
      "“Variable(s) ‘CountDeclMethodDefault’ constant. Cannot scale data.”Warning message in svm.default(x, y, scale = scale, ..., na.action = na.action):\n",
      "“Variable(s) ‘CountDeclMethodDefault’ constant. Cannot scale data.”Warning message in svm.default(x, y, scale = scale, ..., na.action = na.action):\n",
      "“Variable(s) ‘CountDeclMethodDefault’ constant. Cannot scale data.”"
     ]
    },
    {
     "name": "stdout",
     "output_type": "stream",
     "text": [
      "[1] \"Developer 52\"\n",
      "             Precision    Recall F-measure\n",
      "J48                0.0 0.0000000       NaN\n",
      "NaiveBayes         0.0 0.0000000       NaN\n",
      "SVM                0.4 1.0000000      1.00\n",
      "oneR               0.4 0.4000000      1.00\n",
      "JRip               0.0 0.0000000       NaN\n",
      "RandomForest       0.4 0.3333333      0.75\n",
      "SMO                0.2 0.1111111      0.50\n"
     ]
    },
    {
     "name": "stderr",
     "output_type": "stream",
     "text": [
      "Warning message in svm.default(x, y, scale = scale, ..., na.action = na.action):\n",
      "“Variable(s) ‘CountDeclMethodDefault’ constant. Cannot scale data.”Warning message in svm.default(x, y, scale = scale, ..., na.action = na.action):\n",
      "“Variable(s) ‘CountDeclMethodDefault’ constant. Cannot scale data.”Warning message in svm.default(x, y, scale = scale, ..., na.action = na.action):\n",
      "“Variable(s) ‘CountDeclClassMethod’ and ‘CountDeclMethodDefault’ constant. Cannot scale data.”Warning message in svm.default(x, y, scale = scale, ..., na.action = na.action):\n",
      "“Variable(s) ‘CountDeclMethodDefault’ constant. Cannot scale data.”Warning message in svm.default(x, y, scale = scale, ..., na.action = na.action):\n",
      "“Variable(s) ‘CountDeclMethodDefault’ constant. Cannot scale data.”"
     ]
    },
    {
     "name": "stdout",
     "output_type": "stream",
     "text": [
      "[1] \"Developer 53\"\n",
      "             Precision     Recall F-measure\n",
      "J48                1.0 0.76666667 0.8333333\n",
      "NaiveBayes         0.8 0.36666667 0.6250000\n",
      "SVM                0.0 0.00000000       NaN\n",
      "oneR               0.2 0.08333333 0.5000000\n",
      "JRip               0.0 0.00000000       NaN\n",
      "RandomForest       0.6 0.62500000 0.8888889\n",
      "SMO                0.4 0.50000000 1.0000000\n"
     ]
    },
    {
     "name": "stderr",
     "output_type": "stream",
     "text": [
      "Warning message in svm.default(x, y, scale = scale, ..., na.action = na.action):\n",
      "“Variable(s) ‘CountDeclMethodDefault’ constant. Cannot scale data.”Warning message in svm.default(x, y, scale = scale, ..., na.action = na.action):\n",
      "“Variable(s) ‘CountDeclMethodDefault’ constant. Cannot scale data.”Warning message in svm.default(x, y, scale = scale, ..., na.action = na.action):\n",
      "“Variable(s) ‘CountDeclClassMethod’ and ‘CountDeclMethodDefault’ constant. Cannot scale data.”Warning message in svm.default(x, y, scale = scale, ..., na.action = na.action):\n",
      "“Variable(s) ‘CountDeclMethodDefault’ constant. Cannot scale data.”Warning message in svm.default(x, y, scale = scale, ..., na.action = na.action):\n",
      "“Variable(s) ‘CountDeclMethodDefault’ constant. Cannot scale data.”"
     ]
    },
    {
     "name": "stdout",
     "output_type": "stream",
     "text": [
      "[1] \"Developer 55\"\n",
      "             Precision    Recall F-measure\n",
      "J48                0.7 0.7916667 0.7833333\n",
      "NaiveBayes         0.6 0.4583333 0.7555556\n",
      "SVM                0.8 0.5333333 0.6266667\n",
      "oneR               0.6 0.6333333 0.7416667\n",
      "JRip               0.9 0.6333333 0.7266667\n",
      "RandomForest       0.6 0.7333333 0.7833333\n",
      "SMO                0.9 0.6666667 0.7533333\n"
     ]
    },
    {
     "name": "stderr",
     "output_type": "stream",
     "text": [
      "Warning message in svm.default(x, y, scale = scale, ..., na.action = na.action):\n",
      "“Variable(s) ‘CountDeclMethodDefault’ constant. Cannot scale data.”Warning message in svm.default(x, y, scale = scale, ..., na.action = na.action):\n",
      "“Variable(s) ‘CountDeclMethodDefault’ constant. Cannot scale data.”Warning message in svm.default(x, y, scale = scale, ..., na.action = na.action):\n",
      "“Variable(s) ‘CountDeclMethodDefault’ constant. Cannot scale data.”Warning message in svm.default(x, y, scale = scale, ..., na.action = na.action):\n",
      "“Variable(s) ‘CountDeclClassMethod’ and ‘CountDeclMethodDefault’ constant. Cannot scale data.”Warning message in svm.default(x, y, scale = scale, ..., na.action = na.action):\n",
      "“Variable(s) ‘CountDeclMethodDefault’ constant. Cannot scale data.”"
     ]
    },
    {
     "name": "stdout",
     "output_type": "stream",
     "text": [
      "[1] \"Developer 56\"\n",
      "             Precision    Recall F-measure\n",
      "J48                0.8 0.5833333 0.7083333\n",
      "NaiveBayes         0.4 0.5000000 0.6666667\n",
      "SVM                0.0       NaN       NaN\n",
      "oneR               0.4 0.3333333 0.6666667\n",
      "JRip               0.6 0.4444444 0.6111111\n",
      "RandomForest       0.4 0.5000000 0.6666667\n",
      "SMO                0.4 0.3333333 0.6666667\n"
     ]
    },
    {
     "name": "stderr",
     "output_type": "stream",
     "text": [
      "Warning message in svm.default(x, y, scale = scale, ..., na.action = na.action):\n",
      "“Variable(s) ‘CountDeclMethodDefault’ constant. Cannot scale data.”Warning message in svm.default(x, y, scale = scale, ..., na.action = na.action):\n",
      "“Variable(s) ‘CountDeclMethodDefault’ constant. Cannot scale data.”Warning message in svm.default(x, y, scale = scale, ..., na.action = na.action):\n",
      "“Variable(s) ‘CountDeclMethodDefault’ constant. Cannot scale data.”Warning message in svm.default(x, y, scale = scale, ..., na.action = na.action):\n",
      "“Variable(s) ‘CountDeclMethodDefault’ constant. Cannot scale data.”Warning message in svm.default(x, y, scale = scale, ..., na.action = na.action):\n",
      "“Variable(s) ‘CountDeclClassMethod’ and ‘CountDeclMethodDefault’ constant. Cannot scale data.”"
     ]
    },
    {
     "name": "stdout",
     "output_type": "stream",
     "text": [
      "[1] \"Developer 64\"\n",
      "             Precision    Recall F-measure\n",
      "J48          0.7000000 0.7833333 0.6980952\n",
      "NaiveBayes   0.5333333 0.8750000 0.7416667\n",
      "SVM          1.0000000 0.7500000 0.8514286\n",
      "oneR         0.8000000 0.7166667 0.7247619\n",
      "JRip         0.9000000 0.7166667 0.7914286\n",
      "RandomForest 0.7000000 0.6833333 0.6647619\n",
      "SMO          0.9000000 0.7166667 0.7914286\n"
     ]
    },
    {
     "name": "stderr",
     "output_type": "stream",
     "text": [
      "Warning message in svm.default(x, y, scale = scale, ..., na.action = na.action):\n",
      "“Variable(s) ‘CountDeclMethodDefault’ constant. Cannot scale data.”Warning message in svm.default(x, y, scale = scale, ..., na.action = na.action):\n",
      "“Variable(s) ‘CountDeclMethodDefault’ constant. Cannot scale data.”Warning message in svm.default(x, y, scale = scale, ..., na.action = na.action):\n",
      "“Variable(s) ‘CountDeclMethodDefault’ constant. Cannot scale data.”Warning message in svm.default(x, y, scale = scale, ..., na.action = na.action):\n",
      "“Variable(s) ‘CountDeclClassMethod’ and ‘CountDeclMethodDefault’ constant. Cannot scale data.”Warning message in svm.default(x, y, scale = scale, ..., na.action = na.action):\n",
      "“Variable(s) ‘CountDeclMethodDefault’ constant. Cannot scale data.”"
     ]
    },
    {
     "name": "stdout",
     "output_type": "stream",
     "text": [
      "[1] \"Developer 91\"\n",
      "             Precision    Recall F-measure\n",
      "J48                0.5 0.5000000 0.6111111\n",
      "NaiveBayes         0.6 0.6666667 0.8000000\n",
      "SVM                0.7 0.5416667 0.6583333\n",
      "oneR               0.6 0.6250000 0.6166667\n",
      "JRip               0.5 0.4583333 0.6111111\n",
      "RandomForest       0.3 0.4166667 0.7333333\n",
      "SMO                0.5 0.6250000 0.5833333\n"
     ]
    },
    {
     "name": "stderr",
     "output_type": "stream",
     "text": [
      "Warning message in svm.default(x, y, scale = scale, ..., na.action = na.action):\n",
      "“Variable(s) ‘CountDeclMethodDefault’ constant. Cannot scale data.”Warning message in svm.default(x, y, scale = scale, ..., na.action = na.action):\n",
      "“Variable(s) ‘CountDeclMethodDefault’ constant. Cannot scale data.”Warning message in svm.default(x, y, scale = scale, ..., na.action = na.action):\n",
      "“Variable(s) ‘CountDeclMethodDefault’ constant. Cannot scale data.”Warning message in svm.default(x, y, scale = scale, ..., na.action = na.action):\n",
      "“Variable(s) ‘CountDeclClassMethod’ and ‘CountDeclMethodDefault’ constant. Cannot scale data.”Warning message in svm.default(x, y, scale = scale, ..., na.action = na.action):\n",
      "“Variable(s) ‘CountDeclMethodDefault’ constant. Cannot scale data.”"
     ]
    },
    {
     "name": "stdout",
     "output_type": "stream",
     "text": [
      "[1] \"Developer 95\"\n",
      "             Precision    Recall F-measure\n",
      "J48               0.75 0.6250000 0.8888889\n",
      "NaiveBayes        1.00 0.7500000 0.8333333\n",
      "SVM               0.00       NaN       NaN\n",
      "oneR              0.50 0.6666667 1.0000000\n",
      "JRip              0.00 0.0000000       NaN\n",
      "RandomForest      0.75 1.0000000 1.0000000\n",
      "SMO               0.50 0.3333333 0.6666667\n"
     ]
    },
    {
     "name": "stderr",
     "output_type": "stream",
     "text": [
      "Warning message in svm.default(x, y, scale = scale, ..., na.action = na.action):\n",
      "“Variable(s) ‘CountDeclClassMethod’ and ‘CountDeclMethodDefault’ constant. Cannot scale data.”Warning message in svm.default(x, y, scale = scale, ..., na.action = na.action):\n",
      "“Variable(s) ‘CountDeclMethodDefault’ constant. Cannot scale data.”Warning message in svm.default(x, y, scale = scale, ..., na.action = na.action):\n",
      "“Variable(s) ‘CountDeclMethodDefault’ constant. Cannot scale data.”Warning message in svm.default(x, y, scale = scale, ..., na.action = na.action):\n",
      "“Variable(s) ‘CountDeclMethodDefault’ constant. Cannot scale data.”Warning message in svm.default(x, y, scale = scale, ..., na.action = na.action):\n",
      "“Variable(s) ‘CountDeclMethodDefault’ constant. Cannot scale data.”"
     ]
    },
    {
     "name": "stdout",
     "output_type": "stream",
     "text": [
      "[1] \"Developer 99\"\n",
      "             Precision    Recall F-measure\n",
      "J48                0.4 0.5000000 0.6111111\n",
      "NaiveBayes         0.8 0.6000000 0.8333333\n",
      "SVM                0.0 0.0000000       NaN\n",
      "oneR               0.5 0.3750000 0.6111111\n",
      "JRip               0.5 0.6666667 0.7222222\n",
      "RandomForest       0.6 0.5000000 0.8888889\n",
      "SMO                0.8 0.7666667 0.7466667\n"
     ]
    },
    {
     "name": "stderr",
     "output_type": "stream",
     "text": [
      "Warning message in svm.default(x, y, scale = scale, ..., na.action = na.action):\n",
      "“Variable(s) ‘CountDeclMethodDefault’ constant. Cannot scale data.”Warning message in svm.default(x, y, scale = scale, ..., na.action = na.action):\n",
      "“Variable(s) ‘CountDeclClassMethod’ and ‘CountDeclMethodDefault’ constant. Cannot scale data.”Warning message in svm.default(x, y, scale = scale, ..., na.action = na.action):\n",
      "“Variable(s) ‘CountDeclMethodDefault’ constant. Cannot scale data.”Warning message in svm.default(x, y, scale = scale, ..., na.action = na.action):\n",
      "“Variable(s) ‘CountDeclMethodDefault’ constant. Cannot scale data.”Warning message in svm.default(x, y, scale = scale, ..., na.action = na.action):\n",
      "“Variable(s) ‘CountDeclMethodDefault’ constant. Cannot scale data.”"
     ]
    },
    {
     "name": "stdout",
     "output_type": "stream",
     "text": [
      "[1] \"Developer 105\"\n",
      "             Precision    Recall F-measure\n",
      "J48                0.0       NaN       NaN\n",
      "NaiveBayes         0.0 0.0000000       NaN\n",
      "SVM                0.0       NaN       NaN\n",
      "oneR               0.5 0.5000000 0.6666667\n",
      "JRip               0.0       NaN       NaN\n",
      "RandomForest       0.5 0.5000000 0.6666667\n",
      "SMO                0.5 0.3333333 1.0000000\n"
     ]
    }
   ],
   "source": [
    "    \n",
    "for(j in 1:10){\n",
    "  \n",
    "  print(colnames(developers)[j])\n",
    "  \n",
    "  path <- paste(\"/Users/joaocorreia/data-analysis/Developers/\",colnames(developers)[j],\"/\",colnames(developers)[j],\" - \",sep=\"\")\n",
    "  \n",
    "  results <- data.frame(0,0,0, 0, 0,0,0)\n",
    "  \n",
    "  \n",
    "  for(q in 1:12){\n",
    "    \n",
    "    dev_path <- paste(path,developers[q,j],\".csv\",sep=\"\")  \n",
    "    dataset <- read.csv(dev_path, stringsAsFactors = FALSE)\n",
    "    \n",
    "    dataset$Smell <- factor(dataset$Smell)\n",
    "    \n",
    "    set.seed(3)\n",
    "    folds <- createFolds(dataset$Smell, k =5)\n",
    "    \n",
    "    resultsJ48 <- executeJ48(dataset, folds)\n",
    "    partial_results <- rowMeans(as.data.frame(resultsJ48), na.rm = TRUE)\n",
    "    \n",
    "    resultsNaiveBayes <- executeNaiveBayes(dataset, folds)\n",
    "    partial_results <- rbind(partial_results, rowMeans(as.data.frame(resultsNaiveBayes), na.rm = TRUE) ) \n",
    "    \n",
    "    resultsSVM <- executeSVM(dataset, folds)\n",
    "    partial_results <- rbind(partial_results, rowMeans(as.data.frame(resultsSVM), na.rm = TRUE)) \n",
    "    \n",
    "    resultsOneR <- executeOneR(dataset, folds)\n",
    "    partial_results <- rbind(partial_results, rowMeans(as.data.frame(resultsOneR), na.rm = TRUE)) \n",
    "    \n",
    "    resultsJRip <- executeJRip(dataset, folds)\n",
    "    partial_results <- rbind(partial_results, rowMeans(as.data.frame(resultsJRip), na.rm = TRUE)) \n",
    "    \n",
    "    resultsRandomForest <- executeRandomForest(dataset, folds)\n",
    "    partial_results <- rbind(partial_results, rowMeans(as.data.frame(resultsRandomForest), na.rm = TRUE)) \n",
    "    \n",
    "    resultsSMO <- executeSMO(dataset, folds)\n",
    "    partial_results <- rbind(partial_results, rowMeans(as.data.frame(resultsSMO), na.rm = TRUE)) \n",
    "    \n",
    "    rownames(partial_results) <- c(\"J48\", \"NaiveBayes\", \"SVM\", \"oneR\", \"JRip\", \"RandomForest\",\"SMO\")\n",
    "    colnames(partial_results) <- c(\"Precision\", \"Recall\", \"F-measure\")\n",
    "    \n",
    "    print(paste(\"Developer\",developers[ q, j]))\n",
    "    \n",
    "    print(partial_results)\n",
    "    \n",
    "    results <- rbind(results, partial_results[,3])\n",
    "  \n",
    "  }\n",
    "  \n",
    "  results <- results[-1,]\n",
    "  rownames(results) <- developers[ ,j]\n",
    "  colnames(results) <- techniques\n",
    "  results[,] <- lapply(results,function(x){ x[is.nan(x)]<-0;return(x)})\n",
    "  \n",
    "  list_of_results[[j]] <- results\n",
    "  \n",
    "}\n",
    "    "
   ]
  },
  {
   "cell_type": "markdown",
   "metadata": {},
   "source": [
    "### Print partial results\n",
    "\n",
    "After the training and evaluation were performed, the following print occurs. That print shows a matrix containing the precision obtained for each algorithm in predicts the developer brief about code smells presence in a piece of code.\n"
   ]
  },
  {
   "cell_type": "code",
   "execution_count": 7,
   "metadata": {},
   "outputs": [
    {
     "name": "stdout",
     "output_type": "stream",
     "text": [
      "[[1]]\n",
      "          J48 NaiveBayes       SVM      oneR      JRip RandomForest       SMO\n",
      "1   0.6000000  0.8666667 0.6916667 0.6916667 0.5833333    0.6555556 0.7266667\n",
      "5   0.6666667  0.6666667 0.6666667 0.6666667 1.0000000    0.6666667 0.6888889\n",
      "6   0.6933333  0.5666667 0.8514286 0.6500000 0.8247619    0.7200000 0.7800000\n",
      "9   0.6666667  0.6666667 0.6666667 0.0000000 0.0000000    0.7500000 0.5583333\n",
      "55  0.6555556  0.6555556 0.7466667 0.6266667 0.7466667    0.6000000 0.6111111\n",
      "58  0.5000000  0.5555556 0.6266667 0.7000000 0.4500000    0.6583333 0.7333333\n",
      "60  0.7500000  0.4000000 0.0000000 0.6111111 0.8333333    0.8333333 0.4000000\n",
      "84  0.0000000  0.5000000 0.0000000 1.0000000 0.0000000    0.6666667 0.5000000\n",
      "97  0.8000000  0.7600000 0.8000000 0.8000000 0.8000000    0.6800000 0.7800000\n",
      "99  0.0000000  0.6333333 0.0000000 0.8333333 0.0000000    0.8333333 0.5833333\n",
      "101 1.0000000  0.6666667 0.6666667 1.0000000 0.6666667    0.8333333 0.0000000\n",
      "103 0.7111111  0.7600000 0.6600000 0.6555556 0.7750000    0.7416667 0.8266667\n",
      "\n",
      "[[2]]\n",
      "          J48 NaiveBayes       SVM      oneR      JRip RandomForest       SMO\n",
      "2   0.6600000  0.7833333 0.7466667 0.8333333 0.7600000    0.8666667 0.8933333\n",
      "17  0.7833333  0.7600000 0.7466667 0.7266667 0.7333333    0.8266667 0.7000000\n",
      "18  0.9333333  0.8933333 0.8514286 0.8647619 0.7580952    0.9314286 0.8914286\n",
      "19  0.9500000  0.9333333 0.0000000 0.8888889 0.9333333    0.9600000 0.8933333\n",
      "21  0.9333333  0.9166667 0.7466667 0.8533333 0.8533333    1.0000000 1.0000000\n",
      "22  0.7866667  0.6111111 0.7466667 0.6266667 0.8533333    0.6916667 0.7666667\n",
      "27  1.0000000  0.9000000 0.0000000 0.0000000 0.6666667    0.8750000 0.7916667\n",
      "30  0.6666667  0.8666667 0.0000000 0.6666667 0.7777778    0.8666667 0.8666667\n",
      "77  0.8247619  0.6416667 0.8914286 0.8533333 0.8914286    0.8247619 0.8133333\n",
      "86  0.9333333  0.9166667 0.7466667 0.8533333 0.8533333    1.0000000 1.0000000\n",
      "93  0.7666667  0.8000000 0.6111111 0.8000000 0.8666667    0.8266667 0.8266667\n",
      "104 0.9333333  0.9166667 0.7466667 0.8533333 0.8533333    1.0000000 1.0000000\n",
      "\n",
      "[[3]]\n",
      "          J48 NaiveBayes       SVM      oneR      JRip RandomForest       SMO\n",
      "1   0.9166667  0.9166667 0.6666667 1.0000000 1.0000000    1.0000000 0.8888889\n",
      "9   0.6666667  0.9333333 0.8888889 1.0000000 1.0000000    0.9333333 0.9166667\n",
      "13  0.8333333  0.8333333 0.0000000 0.8333333 0.7500000    0.8333333 1.0000000\n",
      "15  0.7500000  0.6666667 0.0000000 0.0000000 0.0000000    1.0000000 1.0000000\n",
      "16  0.6666667  0.9333333 0.8888889 1.0000000 1.0000000    0.9333333 0.9166667\n",
      "61  1.0000000  0.0000000 0.0000000 0.6666667 0.0000000    0.0000000 0.0000000\n",
      "62  0.6555556  0.7777778 0.0000000 0.6666667 0.0000000    0.6666667 0.6666667\n",
      "66  1.0000000  0.8333333 0.0000000 1.0000000 1.0000000    1.0000000 0.8333333\n",
      "84  0.7777778  0.8333333 0.0000000 0.6666667 0.0000000    0.8333333 1.0000000\n",
      "94  0.8666667  0.9166667 1.0000000 0.8666667 0.8666667    0.9166667 1.0000000\n",
      "102 0.7222222  0.7500000 0.0000000 0.5000000 0.0000000    0.0000000 0.7500000\n",
      "103 0.8666667  0.8666667 1.0000000 0.8750000 0.8333333    0.9333333 0.9166667\n",
      "\n",
      "[[4]]\n",
      "          J48 NaiveBayes       SVM      oneR      JRip RandomForest       SMO\n",
      "2   0.6555556  0.5416667 0.6666667 0.7266667 0.5833333    0.5750000 0.6000000\n",
      "7   0.6500000  0.7833333 0.0000000 0.6111111 0.5000000    0.8333333 0.6666667\n",
      "21  0.7333333  0.8166667 0.6866667 0.7416667 0.7555556    0.7466667 0.7200000\n",
      "22  0.0000000  0.0000000 0.0000000 0.0000000 0.0000000    0.0000000 0.0000000\n",
      "24  0.7777778  0.8333333 0.0000000 0.6666667 1.0000000    0.8888889 0.6111111\n",
      "25  0.6066667  0.6666667 0.6250000 0.5133333 0.6111111    0.7916667 0.6916667\n",
      "28  0.8333333  0.7000000 0.5833333 0.7500000 1.0000000    0.8666667 0.8666667\n",
      "86  0.6666667  0.7777778 0.0000000 0.6666667 0.6666667    0.7777778 0.8888889\n",
      "104 0.5000000  0.5000000 0.0000000 0.5000000 0.0000000    0.0000000 0.7500000\n",
      "110 0.6666667  0.6333333 0.6600000 0.5555556 0.6111111    0.6666667 0.7500000\n",
      "111 0.7933333  0.6933333 0.6733333 0.7833333 0.7200000    0.6600000 0.6666667\n",
      "124 0.8333333  0.6555556 0.6333333 0.6111111 0.6250000    0.7600000 0.8666667\n",
      "\n",
      "[[5]]\n",
      "         J48 NaiveBayes       SVM      oneR      JRip RandomForest       SMO\n",
      "41 0.7533333  0.7533333 0.8000000 0.6500000 0.7400000    0.8400000 0.7400000\n",
      "42 0.8314286  0.9314286 0.8914286 0.8314286 0.6647619    0.9333333 0.7247619\n",
      "43 0.7000000  0.7416667 0.6583333 0.6666667 0.5833333    0.7933333 0.7416667\n",
      "45 0.7533333  0.8266667 0.6800000 0.7400000 0.8000000    0.8133333 0.6533333\n",
      "46 0.8933333  0.8333333 0.7416667 0.5555556 0.8333333    0.9000000 0.7416667\n",
      "47 0.8247619  0.8266667 0.7847619 0.7914286 0.7914286    0.7647619 0.7580952\n",
      "49 0.9000000  0.7222222 1.0000000 0.7600000 0.7222222    0.8333333 0.7222222\n",
      "51 0.8666667  0.6500000 0.6583333 0.7333333 0.8133333    0.7266667 0.6500000\n",
      "64 0.8533333  0.9200000 0.7847619 0.7666667 0.9333333    1.0000000 0.7714286\n",
      "74 0.7200000  0.7333333 0.7866667 0.7555556 0.6600000    0.7533333 0.6555556\n",
      "81 0.6866667  0.7500000 0.7600000 0.8000000 0.7466667    0.8333333 0.7777778\n",
      "95 0.5833333  0.5833333 0.5833333 0.6666667 0.5555556    0.6111111 0.0000000\n",
      "\n",
      "[[6]]\n",
      "          J48 NaiveBayes       SVM      oneR      JRip RandomForest       SMO\n",
      "5   0.9333333  0.7500000 0.7500000 0.8333333 0.8333333    0.8888889 0.7777778\n",
      "6   0.8314286  0.6000000 0.8914286 0.8247619 0.9142857    0.8314286 0.8914286\n",
      "10  0.0000000  0.0000000 0.0000000 0.0000000 0.0000000    0.0000000 0.0000000\n",
      "52  0.9600000  0.8914286 0.8514286 0.9600000 0.9200000    0.8514286 0.8514286\n",
      "53  0.0000000  0.0000000 0.0000000 0.0000000 0.0000000    0.0000000 0.0000000\n",
      "55  0.6666667  0.5833333 0.6866667 0.7333333 0.7466667    0.4500000 0.7333333\n",
      "58  0.6666667  0.6666667 0.0000000 0.0000000 0.0000000    0.0000000 0.0000000\n",
      "60  0.5333333  0.6666667 0.6666667 0.6666667 0.6666667    0.5833333 0.6666667\n",
      "91  0.5000000  0.5000000 0.0000000 1.0000000 0.5000000    0.8333333 0.0000000\n",
      "97  0.6166667  0.6111111 0.7466667 0.6916667 0.6583333    0.6555556 0.6166667\n",
      "99  0.7666667  0.8333333 0.8333333 0.7500000 0.6666667    0.7500000 0.8333333\n",
      "101 0.7133333  0.6250000 0.8000000 0.6533333 0.8000000    0.7600000 0.8000000\n",
      "\n",
      "[[7]]\n",
      "         J48 NaiveBayes       SVM      oneR      JRip RandomForest       SMO\n",
      "8  0.8333333  0.6666667 1.0000000 0.8333333 0.0000000    1.0000000 0.6666667\n",
      "11 0.6666667  0.5000000 0.0000000 0.5833333 0.0000000    0.0000000 0.6666667\n",
      "39 0.8333333  0.7777778 1.0000000 0.0000000 1.0000000    1.0000000 0.8333333\n",
      "40 0.7000000  0.9500000 0.8600000 0.8166667 0.7000000    0.8666667 0.8600000\n",
      "41 0.8333333  0.7266667 0.0000000 0.6666667 0.5000000    0.7000000 0.5833333\n",
      "42 0.8333333  0.7500000 0.8333333 0.0000000 0.6666667    0.8333333 0.7222222\n",
      "43 0.0000000  0.0000000 0.0000000 0.0000000 0.0000000    0.0000000 0.0000000\n",
      "45 0.7777778  0.7500000 0.0000000 0.0000000 0.6666667    0.7500000 0.6666667\n",
      "46 0.5000000  0.7777778 0.0000000 0.5000000 0.6111111    0.0000000 0.7500000\n",
      "47 0.6666667  0.7833333 0.0000000 0.0000000 0.6666667    0.6111111 0.7500000\n",
      "74 0.6666667  0.6666667 0.0000000 0.0000000 0.6666667    1.0000000 1.0000000\n",
      "81 0.7916667  0.5000000 0.0000000 0.9166667 0.5000000    0.6666667 1.0000000\n",
      "\n",
      "[[8]]\n",
      "          J48 NaiveBayes       SVM      oneR      JRip RandomForest       SMO\n",
      "46  0.8333333  0.8800000 0.8914286 0.8600000 0.8200000    0.8933333 0.8933333\n",
      "47  0.6266667  0.7000000 0.7400000 0.6600000 0.7400000    0.8000000 0.7250000\n",
      "49  0.7777778  0.8333333 1.0000000 0.7916667 0.6666667    0.8888889 0.7083333\n",
      "51  0.7111111  0.7000000 0.5833333 0.7333333 0.7000000    0.7222222 0.6000000\n",
      "52  0.9333333  0.9500000 0.8666667 0.8750000 0.7333333    0.8666667 0.9333333\n",
      "53  1.0000000  1.0000000 0.0000000 0.8333333 0.0000000    0.0000000 0.7222222\n",
      "64  0.6000000  0.5833333 0.7777778 0.0000000 0.5000000    0.5833333 0.5000000\n",
      "74  0.7750000  0.7750000 0.7400000 0.7733333 0.7400000    0.8500000 0.7133333\n",
      "91  0.5000000  0.7111111 0.7777778 0.6666667 0.0000000    0.7833333 0.7083333\n",
      "95  0.8333333  0.6666667 0.6666667 0.8888889 0.6666667    0.8333333 1.0000000\n",
      "105 1.0000000  1.0000000 0.0000000 0.8888889 0.0000000    0.0000000 0.7777778\n",
      "109 0.0000000  0.0000000 0.0000000 0.0000000 0.0000000    0.0000000 1.0000000\n",
      "\n",
      "[[9]]\n",
      "          J48 NaiveBayes       SVM      oneR      JRip RandomForest       SMO\n",
      "13  0.5833333  1.0000000 0.0000000 0.0000000 0.0000000    0.6666667 0.5000000\n",
      "15  0.8166667  0.5933333 0.5833333 0.6111111 0.6555556    0.6166667 0.6111111\n",
      "16  0.5666667  0.4666667 0.6866667 0.6000000 0.7466667    0.5833333 0.5166667\n",
      "17  0.7777778  0.0000000 0.0000000 0.8333333 0.6666667    1.0000000 0.6666667\n",
      "18  0.9166667  0.8500000 0.8933333 0.9166667 0.7666667    0.9166667 0.9500000\n",
      "19  0.8533333  0.7866667 0.7600000 0.9200000 0.7066667    0.7933333 0.7416667\n",
      "30  0.7916667  0.7500000 0.6266667 0.8266667 0.6666667    0.7833333 0.8266667\n",
      "61  0.5833333  0.6666667 0.6666667 0.6666667 0.0000000    0.6666667 0.6666667\n",
      "94  0.7083333  0.7333333 0.6583333 0.6266667 0.6111111    0.6250000 0.8933333\n",
      "102 0.6416667  0.7333333 0.5000000 0.8750000 0.7500000    0.7333333 0.7266667\n",
      "111 0.8266667  0.8000000 0.8514286 0.8666667 0.8500000    0.8533333 0.8600000\n",
      "112 0.8333333  0.6666667 0.0000000 0.5000000 0.6666667    1.0000000 0.0000000\n",
      "\n",
      "[[10]]\n",
      "          J48 NaiveBayes       SVM      oneR      JRip RandomForest       SMO\n",
      "5   0.5833333  0.7222222 1.0000000 0.5000000 0.5000000    0.5833333 0.7500000\n",
      "49  0.5555556  0.7777778 0.5000000 0.5000000 0.5555556    0.6250000 0.8333333\n",
      "51  0.5000000  0.7333333 0.5833333 0.6500000 0.6111111    0.6500000 0.6500000\n",
      "52  0.0000000  0.0000000 1.0000000 1.0000000 0.0000000    0.7500000 0.5000000\n",
      "53  0.8333333  0.6250000 0.0000000 0.5000000 0.0000000    0.8888889 1.0000000\n",
      "55  0.7833333  0.7555556 0.6266667 0.7416667 0.7266667    0.7833333 0.7533333\n",
      "56  0.7083333  0.6666667 0.0000000 0.6666667 0.6111111    0.6666667 0.6666667\n",
      "64  0.6980952  0.7416667 0.8514286 0.7247619 0.7914286    0.6647619 0.7914286\n",
      "91  0.6111111  0.8000000 0.6583333 0.6166667 0.6111111    0.7333333 0.5833333\n",
      "95  0.8888889  0.8333333 0.0000000 1.0000000 0.0000000    1.0000000 0.6666667\n",
      "99  0.6111111  0.8333333 0.0000000 0.6111111 0.7222222    0.8888889 0.7466667\n",
      "105 0.0000000  0.0000000 0.0000000 0.6666667 0.0000000    0.6666667 1.0000000\n",
      "\n"
     ]
    }
   ],
   "source": [
    "print(list_of_results) \n"
   ]
  },
  {
   "cell_type": "markdown",
   "metadata": {},
   "source": [
    "The next line is just another way to show the same information obtained using the previous print.\n"
   ]
  },
  {
   "cell_type": "code",
   "execution_count": 8,
   "metadata": {},
   "outputs": [
    {
     "name": "stdout",
     "output_type": "stream",
     "text": [
      "[1] \"FE\"\n",
      "          J48 NaiveBayes       SVM      oneR      JRip RandomForest       SMO\n",
      "1   0.6000000  0.8666667 0.6916667 0.6916667 0.5833333    0.6555556 0.7266667\n",
      "5   0.6666667  0.6666667 0.6666667 0.6666667 1.0000000    0.6666667 0.6888889\n",
      "6   0.6933333  0.5666667 0.8514286 0.6500000 0.8247619    0.7200000 0.7800000\n",
      "9   0.6666667  0.6666667 0.6666667 0.0000000 0.0000000    0.7500000 0.5583333\n",
      "55  0.6555556  0.6555556 0.7466667 0.6266667 0.7466667    0.6000000 0.6111111\n",
      "58  0.5000000  0.5555556 0.6266667 0.7000000 0.4500000    0.6583333 0.7333333\n",
      "60  0.7500000  0.4000000 0.0000000 0.6111111 0.8333333    0.8333333 0.4000000\n",
      "84  0.0000000  0.5000000 0.0000000 1.0000000 0.0000000    0.6666667 0.5000000\n",
      "97  0.8000000  0.7600000 0.8000000 0.8000000 0.8000000    0.6800000 0.7800000\n",
      "99  0.0000000  0.6333333 0.0000000 0.8333333 0.0000000    0.8333333 0.5833333\n",
      "101 1.0000000  0.6666667 0.6666667 1.0000000 0.6666667    0.8333333 0.0000000\n",
      "103 0.7111111  0.7600000 0.6600000 0.6555556 0.7750000    0.7416667 0.8266667\n",
      "[1] \"DCL\"\n",
      "          J48 NaiveBayes       SVM      oneR      JRip RandomForest       SMO\n",
      "2   0.6600000  0.7833333 0.7466667 0.8333333 0.7600000    0.8666667 0.8933333\n",
      "17  0.7833333  0.7600000 0.7466667 0.7266667 0.7333333    0.8266667 0.7000000\n",
      "18  0.9333333  0.8933333 0.8514286 0.8647619 0.7580952    0.9314286 0.8914286\n",
      "19  0.9500000  0.9333333 0.0000000 0.8888889 0.9333333    0.9600000 0.8933333\n",
      "21  0.9333333  0.9166667 0.7466667 0.8533333 0.8533333    1.0000000 1.0000000\n",
      "22  0.7866667  0.6111111 0.7466667 0.6266667 0.8533333    0.6916667 0.7666667\n",
      "27  1.0000000  0.9000000 0.0000000 0.0000000 0.6666667    0.8750000 0.7916667\n",
      "30  0.6666667  0.8666667 0.0000000 0.6666667 0.7777778    0.8666667 0.8666667\n",
      "77  0.8247619  0.6416667 0.8914286 0.8533333 0.8914286    0.8247619 0.8133333\n",
      "86  0.9333333  0.9166667 0.7466667 0.8533333 0.8533333    1.0000000 1.0000000\n",
      "93  0.7666667  0.8000000 0.6111111 0.8000000 0.8666667    0.8266667 0.8266667\n",
      "104 0.9333333  0.9166667 0.7466667 0.8533333 0.8533333    1.0000000 1.0000000\n",
      "[1] \"GC\"\n",
      "          J48 NaiveBayes       SVM      oneR      JRip RandomForest       SMO\n",
      "1   0.9166667  0.9166667 0.6666667 1.0000000 1.0000000    1.0000000 0.8888889\n",
      "9   0.6666667  0.9333333 0.8888889 1.0000000 1.0000000    0.9333333 0.9166667\n",
      "13  0.8333333  0.8333333 0.0000000 0.8333333 0.7500000    0.8333333 1.0000000\n",
      "15  0.7500000  0.6666667 0.0000000 0.0000000 0.0000000    1.0000000 1.0000000\n",
      "16  0.6666667  0.9333333 0.8888889 1.0000000 1.0000000    0.9333333 0.9166667\n",
      "61  1.0000000  0.0000000 0.0000000 0.6666667 0.0000000    0.0000000 0.0000000\n",
      "62  0.6555556  0.7777778 0.0000000 0.6666667 0.0000000    0.6666667 0.6666667\n",
      "66  1.0000000  0.8333333 0.0000000 1.0000000 1.0000000    1.0000000 0.8333333\n",
      "84  0.7777778  0.8333333 0.0000000 0.6666667 0.0000000    0.8333333 1.0000000\n",
      "94  0.8666667  0.9166667 1.0000000 0.8666667 0.8666667    0.9166667 1.0000000\n",
      "102 0.7222222  0.7500000 0.0000000 0.5000000 0.0000000    0.0000000 0.7500000\n",
      "103 0.8666667  0.8666667 1.0000000 0.8750000 0.8333333    0.9333333 0.9166667\n",
      "[1] \"II\"\n",
      "          J48 NaiveBayes       SVM      oneR      JRip RandomForest       SMO\n",
      "2   0.6555556  0.5416667 0.6666667 0.7266667 0.5833333    0.5750000 0.6000000\n",
      "7   0.6500000  0.7833333 0.0000000 0.6111111 0.5000000    0.8333333 0.6666667\n",
      "21  0.7333333  0.8166667 0.6866667 0.7416667 0.7555556    0.7466667 0.7200000\n",
      "22  0.0000000  0.0000000 0.0000000 0.0000000 0.0000000    0.0000000 0.0000000\n",
      "24  0.7777778  0.8333333 0.0000000 0.6666667 1.0000000    0.8888889 0.6111111\n",
      "25  0.6066667  0.6666667 0.6250000 0.5133333 0.6111111    0.7916667 0.6916667\n",
      "28  0.8333333  0.7000000 0.5833333 0.7500000 1.0000000    0.8666667 0.8666667\n",
      "86  0.6666667  0.7777778 0.0000000 0.6666667 0.6666667    0.7777778 0.8888889\n",
      "104 0.5000000  0.5000000 0.0000000 0.5000000 0.0000000    0.0000000 0.7500000\n",
      "110 0.6666667  0.6333333 0.6600000 0.5555556 0.6111111    0.6666667 0.7500000\n",
      "111 0.7933333  0.6933333 0.6733333 0.7833333 0.7200000    0.6600000 0.6666667\n",
      "124 0.8333333  0.6555556 0.6333333 0.6111111 0.6250000    0.7600000 0.8666667\n",
      "[1] \"LM\"\n",
      "         J48 NaiveBayes       SVM      oneR      JRip RandomForest       SMO\n",
      "41 0.7533333  0.7533333 0.8000000 0.6500000 0.7400000    0.8400000 0.7400000\n",
      "42 0.8314286  0.9314286 0.8914286 0.8314286 0.6647619    0.9333333 0.7247619\n",
      "43 0.7000000  0.7416667 0.6583333 0.6666667 0.5833333    0.7933333 0.7416667\n",
      "45 0.7533333  0.8266667 0.6800000 0.7400000 0.8000000    0.8133333 0.6533333\n",
      "46 0.8933333  0.8333333 0.7416667 0.5555556 0.8333333    0.9000000 0.7416667\n",
      "47 0.8247619  0.8266667 0.7847619 0.7914286 0.7914286    0.7647619 0.7580952\n",
      "49 0.9000000  0.7222222 1.0000000 0.7600000 0.7222222    0.8333333 0.7222222\n",
      "51 0.8666667  0.6500000 0.6583333 0.7333333 0.8133333    0.7266667 0.6500000\n",
      "64 0.8533333  0.9200000 0.7847619 0.7666667 0.9333333    1.0000000 0.7714286\n",
      "74 0.7200000  0.7333333 0.7866667 0.7555556 0.6600000    0.7533333 0.6555556\n",
      "81 0.6866667  0.7500000 0.7600000 0.8000000 0.7466667    0.8333333 0.7777778\n",
      "95 0.5833333  0.5833333 0.5833333 0.6666667 0.5555556    0.6111111 0.0000000\n",
      "[1] \"MC\"\n",
      "          J48 NaiveBayes       SVM      oneR      JRip RandomForest       SMO\n",
      "5   0.9333333  0.7500000 0.7500000 0.8333333 0.8333333    0.8888889 0.7777778\n",
      "6   0.8314286  0.6000000 0.8914286 0.8247619 0.9142857    0.8314286 0.8914286\n",
      "10  0.0000000  0.0000000 0.0000000 0.0000000 0.0000000    0.0000000 0.0000000\n",
      "52  0.9600000  0.8914286 0.8514286 0.9600000 0.9200000    0.8514286 0.8514286\n",
      "53  0.0000000  0.0000000 0.0000000 0.0000000 0.0000000    0.0000000 0.0000000\n",
      "55  0.6666667  0.5833333 0.6866667 0.7333333 0.7466667    0.4500000 0.7333333\n",
      "58  0.6666667  0.6666667 0.0000000 0.0000000 0.0000000    0.0000000 0.0000000\n",
      "60  0.5333333  0.6666667 0.6666667 0.6666667 0.6666667    0.5833333 0.6666667\n",
      "91  0.5000000  0.5000000 0.0000000 1.0000000 0.5000000    0.8333333 0.0000000\n",
      "97  0.6166667  0.6111111 0.7466667 0.6916667 0.6583333    0.6555556 0.6166667\n",
      "99  0.7666667  0.8333333 0.8333333 0.7500000 0.6666667    0.7500000 0.8333333\n",
      "101 0.7133333  0.6250000 0.8000000 0.6533333 0.8000000    0.7600000 0.8000000\n",
      "[1] \"MM\"\n",
      "         J48 NaiveBayes       SVM      oneR      JRip RandomForest       SMO\n",
      "8  0.8333333  0.6666667 1.0000000 0.8333333 0.0000000    1.0000000 0.6666667\n",
      "11 0.6666667  0.5000000 0.0000000 0.5833333 0.0000000    0.0000000 0.6666667\n",
      "39 0.8333333  0.7777778 1.0000000 0.0000000 1.0000000    1.0000000 0.8333333\n",
      "40 0.7000000  0.9500000 0.8600000 0.8166667 0.7000000    0.8666667 0.8600000\n",
      "41 0.8333333  0.7266667 0.0000000 0.6666667 0.5000000    0.7000000 0.5833333\n",
      "42 0.8333333  0.7500000 0.8333333 0.0000000 0.6666667    0.8333333 0.7222222\n",
      "43 0.0000000  0.0000000 0.0000000 0.0000000 0.0000000    0.0000000 0.0000000\n",
      "45 0.7777778  0.7500000 0.0000000 0.0000000 0.6666667    0.7500000 0.6666667\n",
      "46 0.5000000  0.7777778 0.0000000 0.5000000 0.6111111    0.0000000 0.7500000\n",
      "47 0.6666667  0.7833333 0.0000000 0.0000000 0.6666667    0.6111111 0.7500000\n",
      "74 0.6666667  0.6666667 0.0000000 0.0000000 0.6666667    1.0000000 1.0000000\n",
      "81 0.7916667  0.5000000 0.0000000 0.9166667 0.5000000    0.6666667 1.0000000\n",
      "[1] \"PO\"\n",
      "          J48 NaiveBayes       SVM      oneR      JRip RandomForest       SMO\n",
      "46  0.8333333  0.8800000 0.8914286 0.8600000 0.8200000    0.8933333 0.8933333\n",
      "47  0.6266667  0.7000000 0.7400000 0.6600000 0.7400000    0.8000000 0.7250000\n",
      "49  0.7777778  0.8333333 1.0000000 0.7916667 0.6666667    0.8888889 0.7083333\n",
      "51  0.7111111  0.7000000 0.5833333 0.7333333 0.7000000    0.7222222 0.6000000\n",
      "52  0.9333333  0.9500000 0.8666667 0.8750000 0.7333333    0.8666667 0.9333333\n",
      "53  1.0000000  1.0000000 0.0000000 0.8333333 0.0000000    0.0000000 0.7222222\n",
      "64  0.6000000  0.5833333 0.7777778 0.0000000 0.5000000    0.5833333 0.5000000\n",
      "74  0.7750000  0.7750000 0.7400000 0.7733333 0.7400000    0.8500000 0.7133333\n",
      "91  0.5000000  0.7111111 0.7777778 0.6666667 0.0000000    0.7833333 0.7083333\n",
      "95  0.8333333  0.6666667 0.6666667 0.8888889 0.6666667    0.8333333 1.0000000\n",
      "105 1.0000000  1.0000000 0.0000000 0.8888889 0.0000000    0.0000000 0.7777778\n",
      "109 0.0000000  0.0000000 0.0000000 0.0000000 0.0000000    0.0000000 1.0000000\n",
      "[1] \"RB\"\n",
      "          J48 NaiveBayes       SVM      oneR      JRip RandomForest       SMO\n",
      "13  0.5833333  1.0000000 0.0000000 0.0000000 0.0000000    0.6666667 0.5000000\n",
      "15  0.8166667  0.5933333 0.5833333 0.6111111 0.6555556    0.6166667 0.6111111\n",
      "16  0.5666667  0.4666667 0.6866667 0.6000000 0.7466667    0.5833333 0.5166667\n",
      "17  0.7777778  0.0000000 0.0000000 0.8333333 0.6666667    1.0000000 0.6666667\n",
      "18  0.9166667  0.8500000 0.8933333 0.9166667 0.7666667    0.9166667 0.9500000\n",
      "19  0.8533333  0.7866667 0.7600000 0.9200000 0.7066667    0.7933333 0.7416667\n",
      "30  0.7916667  0.7500000 0.6266667 0.8266667 0.6666667    0.7833333 0.8266667\n",
      "61  0.5833333  0.6666667 0.6666667 0.6666667 0.0000000    0.6666667 0.6666667\n",
      "94  0.7083333  0.7333333 0.6583333 0.6266667 0.6111111    0.6250000 0.8933333\n",
      "102 0.6416667  0.7333333 0.5000000 0.8750000 0.7500000    0.7333333 0.7266667\n",
      "111 0.8266667  0.8000000 0.8514286 0.8666667 0.8500000    0.8533333 0.8600000\n",
      "112 0.8333333  0.6666667 0.0000000 0.5000000 0.6666667    1.0000000 0.0000000\n",
      "[1] \"SG\"\n",
      "          J48 NaiveBayes       SVM      oneR      JRip RandomForest       SMO\n",
      "5   0.5833333  0.7222222 1.0000000 0.5000000 0.5000000    0.5833333 0.7500000\n",
      "49  0.5555556  0.7777778 0.5000000 0.5000000 0.5555556    0.6250000 0.8333333\n",
      "51  0.5000000  0.7333333 0.5833333 0.6500000 0.6111111    0.6500000 0.6500000\n",
      "52  0.0000000  0.0000000 1.0000000 1.0000000 0.0000000    0.7500000 0.5000000\n",
      "53  0.8333333  0.6250000 0.0000000 0.5000000 0.0000000    0.8888889 1.0000000\n",
      "55  0.7833333  0.7555556 0.6266667 0.7416667 0.7266667    0.7833333 0.7533333\n",
      "56  0.7083333  0.6666667 0.0000000 0.6666667 0.6111111    0.6666667 0.6666667\n",
      "64  0.6980952  0.7416667 0.8514286 0.7247619 0.7914286    0.6647619 0.7914286\n",
      "91  0.6111111  0.8000000 0.6583333 0.6166667 0.6111111    0.7333333 0.5833333\n",
      "95  0.8888889  0.8333333 0.0000000 1.0000000 0.0000000    1.0000000 0.6666667\n",
      "99  0.6111111  0.8333333 0.0000000 0.6111111 0.7222222    0.8888889 0.7466667\n",
      "105 0.0000000  0.0000000 0.0000000 0.6666667 0.0000000    0.6666667 1.0000000\n"
     ]
    }
   ],
   "source": [
    "for(smell in 1:10){\n",
    "  print(smells[smell])\n",
    "  print(list_of_results[[smell]])\n",
    "}"
   ]
  },
  {
   "cell_type": "markdown",
   "metadata": {},
   "source": [
    "### Mean of results\n",
    "\n",
    "Although the code below seems to be complex, they just calculate the mean of the results obtained by the algorithms in the prediction of conde smells, considering all developers."
   ]
  },
  {
   "cell_type": "code",
   "execution_count": 9,
   "metadata": {},
   "outputs": [],
   "source": [
    "results_mean <-     matrix(c(mean(list_of_results[[1]]$J48), \n",
    "                             mean(list_of_results[[1]]$NaiveBayes), \n",
    "                             mean(list_of_results[[1]]$SVM), \n",
    "                             mean(list_of_results[[1]]$oneR), \n",
    "                             mean(list_of_results[[1]]$JRip), \n",
    "                             mean(list_of_results[[1]]$RandomForest), \n",
    "                             mean(list_of_results[[1]]$SMO)), \n",
    "                           nrow = 1,\n",
    "                           ncol = 7)\n",
    "\n",
    "for(smell in 2:10){\n",
    "  results_mean <- rbind(results_mean, c(mean(list_of_results[[smell]]$J48), \n",
    "                                        mean(list_of_results[[smell]]$NaiveBayes), \n",
    "                                        mean(list_of_results[[smell]]$SVM), \n",
    "                                        mean(list_of_results[[smell]]$oneR), \n",
    "                                        mean(list_of_results[[smell]]$JRip), \n",
    "                                        mean(list_of_results[[smell]]$RandomForest), \n",
    "                                        mean(list_of_results[[smell]]$SMO)))\n",
    "}"
   ]
  },
  {
   "cell_type": "markdown",
   "metadata": {},
   "source": [
    "### Ploting graph \n",
    "\n",
    "Finaally, the lest block of code is used to set and print a chart relating code smells and the effectiveness of the machine learning algorithms to predict them using the developer's opinion. "
   ]
  },
  {
   "cell_type": "code",
   "execution_count": 10,
   "metadata": {},
   "outputs": [
    {
     "data": {
      "text/html": [
       "<table>\n",
       "<caption>A matrix: 7 × 10 of type dbl</caption>\n",
       "<thead>\n",
       "\t<tr><th></th><th scope=col>FE</th><th scope=col>DCL</th><th scope=col>GC</th><th scope=col>II</th><th scope=col>LM</th><th scope=col>MC</th><th scope=col>MM</th><th scope=col>PO</th><th scope=col>RB</th><th scope=col>SG</th></tr>\n",
       "</thead>\n",
       "<tbody>\n",
       "\t<tr><th scope=row>J48</th><td>0.5869444</td><td>0.8476190</td><td>0.8101852</td><td>0.6430556</td><td>0.7805159</td><td>0.5990079</td><td>0.6752315</td><td>0.7158796</td><td>0.7416204</td><td>0.5644246</td></tr>\n",
       "\t<tr><th scope=row>NaiveBayes</th><td>0.6414815</td><td>0.8282870</td><td>0.7717593</td><td>0.6334722</td><td>0.7726653</td><td>0.5606283</td><td>0.6540741</td><td>0.7332870</td><td>0.6705556</td><td>0.6240741</td></tr>\n",
       "\t<tr><th scope=row>SVM</th><td>0.5313690</td><td>0.5694974</td><td>0.3703704</td><td>0.3773611</td><td>0.7607738</td><td>0.5188492</td><td>0.3077778</td><td>0.5869709</td><td>0.5188690</td><td>0.4349802</td></tr>\n",
       "\t<tr><th scope=row>oneR</th><td>0.6862500</td><td>0.7350265</td><td>0.7562500</td><td>0.5938426</td><td>0.7264418</td><td>0.5927579</td><td>0.3597222</td><td>0.6642593</td><td>0.6868981</td><td>0.6814616</td></tr>\n",
       "\t<tr><th scope=row>JRip</th><td>0.5566468</td><td>0.8167196</td><td>0.5375000</td><td>0.5893981</td><td>0.7369974</td><td>0.5588294</td><td>0.4981481</td><td>0.4638889</td><td>0.5905556</td><td>0.4274339</td></tr>\n",
       "\t<tr><th scope=row>RandomForest</th><td>0.7199074</td><td>0.8891270</td><td>0.7541667</td><td>0.6305556</td><td>0.8168783</td><td>0.5503307</td><td>0.6189815</td><td>0.6017593</td><td>0.7698611</td><td>0.7417394</td></tr>\n",
       "\t<tr><th scope=row>SMO</th><td>0.5990278</td><td>0.8702579</td><td>0.8240741</td><td>0.6731944</td><td>0.6613757</td><td>0.5142196</td><td>0.7082407</td><td>0.7734722</td><td>0.6632870</td><td>0.7451190</td></tr>\n",
       "</tbody>\n",
       "</table>\n"
      ],
      "text/latex": [
       "A matrix: 7 × 10 of type dbl\n",
       "\\begin{tabular}{r|llllllllll}\n",
       "  & FE & DCL & GC & II & LM & MC & MM & PO & RB & SG\\\\\n",
       "\\hline\n",
       "\tJ48 & 0.5869444 & 0.8476190 & 0.8101852 & 0.6430556 & 0.7805159 & 0.5990079 & 0.6752315 & 0.7158796 & 0.7416204 & 0.5644246\\\\\n",
       "\tNaiveBayes & 0.6414815 & 0.8282870 & 0.7717593 & 0.6334722 & 0.7726653 & 0.5606283 & 0.6540741 & 0.7332870 & 0.6705556 & 0.6240741\\\\\n",
       "\tSVM & 0.5313690 & 0.5694974 & 0.3703704 & 0.3773611 & 0.7607738 & 0.5188492 & 0.3077778 & 0.5869709 & 0.5188690 & 0.4349802\\\\\n",
       "\toneR & 0.6862500 & 0.7350265 & 0.7562500 & 0.5938426 & 0.7264418 & 0.5927579 & 0.3597222 & 0.6642593 & 0.6868981 & 0.6814616\\\\\n",
       "\tJRip & 0.5566468 & 0.8167196 & 0.5375000 & 0.5893981 & 0.7369974 & 0.5588294 & 0.4981481 & 0.4638889 & 0.5905556 & 0.4274339\\\\\n",
       "\tRandomForest & 0.7199074 & 0.8891270 & 0.7541667 & 0.6305556 & 0.8168783 & 0.5503307 & 0.6189815 & 0.6017593 & 0.7698611 & 0.7417394\\\\\n",
       "\tSMO & 0.5990278 & 0.8702579 & 0.8240741 & 0.6731944 & 0.6613757 & 0.5142196 & 0.7082407 & 0.7734722 & 0.6632870 & 0.7451190\\\\\n",
       "\\end{tabular}\n"
      ],
      "text/markdown": [
       "\n",
       "A matrix: 7 × 10 of type dbl\n",
       "\n",
       "| <!--/--> | FE | DCL | GC | II | LM | MC | MM | PO | RB | SG |\n",
       "|---|---|---|---|---|---|---|---|---|---|---|\n",
       "| J48 | 0.5869444 | 0.8476190 | 0.8101852 | 0.6430556 | 0.7805159 | 0.5990079 | 0.6752315 | 0.7158796 | 0.7416204 | 0.5644246 |\n",
       "| NaiveBayes | 0.6414815 | 0.8282870 | 0.7717593 | 0.6334722 | 0.7726653 | 0.5606283 | 0.6540741 | 0.7332870 | 0.6705556 | 0.6240741 |\n",
       "| SVM | 0.5313690 | 0.5694974 | 0.3703704 | 0.3773611 | 0.7607738 | 0.5188492 | 0.3077778 | 0.5869709 | 0.5188690 | 0.4349802 |\n",
       "| oneR | 0.6862500 | 0.7350265 | 0.7562500 | 0.5938426 | 0.7264418 | 0.5927579 | 0.3597222 | 0.6642593 | 0.6868981 | 0.6814616 |\n",
       "| JRip | 0.5566468 | 0.8167196 | 0.5375000 | 0.5893981 | 0.7369974 | 0.5588294 | 0.4981481 | 0.4638889 | 0.5905556 | 0.4274339 |\n",
       "| RandomForest | 0.7199074 | 0.8891270 | 0.7541667 | 0.6305556 | 0.8168783 | 0.5503307 | 0.6189815 | 0.6017593 | 0.7698611 | 0.7417394 |\n",
       "| SMO | 0.5990278 | 0.8702579 | 0.8240741 | 0.6731944 | 0.6613757 | 0.5142196 | 0.7082407 | 0.7734722 | 0.6632870 | 0.7451190 |\n",
       "\n"
      ],
      "text/plain": [
       "             FE        DCL       GC        II        LM        MC       \n",
       "J48          0.5869444 0.8476190 0.8101852 0.6430556 0.7805159 0.5990079\n",
       "NaiveBayes   0.6414815 0.8282870 0.7717593 0.6334722 0.7726653 0.5606283\n",
       "SVM          0.5313690 0.5694974 0.3703704 0.3773611 0.7607738 0.5188492\n",
       "oneR         0.6862500 0.7350265 0.7562500 0.5938426 0.7264418 0.5927579\n",
       "JRip         0.5566468 0.8167196 0.5375000 0.5893981 0.7369974 0.5588294\n",
       "RandomForest 0.7199074 0.8891270 0.7541667 0.6305556 0.8168783 0.5503307\n",
       "SMO          0.5990278 0.8702579 0.8240741 0.6731944 0.6613757 0.5142196\n",
       "             MM        PO        RB        SG       \n",
       "J48          0.6752315 0.7158796 0.7416204 0.5644246\n",
       "NaiveBayes   0.6540741 0.7332870 0.6705556 0.6240741\n",
       "SVM          0.3077778 0.5869709 0.5188690 0.4349802\n",
       "oneR         0.3597222 0.6642593 0.6868981 0.6814616\n",
       "JRip         0.4981481 0.4638889 0.5905556 0.4274339\n",
       "RandomForest 0.6189815 0.6017593 0.7698611 0.7417394\n",
       "SMO          0.7082407 0.7734722 0.6632870 0.7451190"
      ]
     },
     "metadata": {},
     "output_type": "display_data"
    },
    {
     "data": {
      "image/png": "[encoded data removed]",
      "text/plain": [
       "Plot with title “Code Smells x Effectiveness”"
      ]
     },
     "metadata": {},
     "output_type": "display_data"
    }
   ],
   "source": [
    "colnames(results_mean) <- techniques\n",
    "rownames(results_mean) <- colnames(developers)\n",
    "results_mean <- t(results_mean)\n",
    "results_mean\n",
    "\n",
    "barplot(results_mean, \n",
    "        main=\"Code Smells x Effectiveness\",\n",
    "        ylab=\"Effectiveness\",\n",
    "        xlab=\"Techniques\", \n",
    "        col=c(\"red\", \"yellow\", \"green\", \"violet\", \"orange\", \"blue\", \"pink\"), \n",
    "        ylim = c(0, 1),\n",
    "        #legend = rownames(results_mean), \n",
    "        beside=TRUE)\n"
   ]
  }
 ],
 "metadata": {
  "kernelspec": {
   "display_name": "R",
   "language": "R",
   "name": "ir"
  },
  "language_info": {
   "codemirror_mode": "r",
   "file_extension": ".r",
   "mimetype": "text/x-r-source",
   "name": "R",
   "pygments_lexer": "r",
   "version": "3.6.1"
  }
 },
 "nbformat": 4,
 "nbformat_minor": 2
}
